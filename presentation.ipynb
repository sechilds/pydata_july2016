{
 "cells": [
  {
   "cell_type": "markdown",
   "metadata": {
    "nbpresent": {
     "id": "136d55a6-1e19-43b7-9332-1d5c00a49a9b"
    }
   },
   "source": [
    "# PyData Calgary July Meeetup"
   ]
  },
  {
   "cell_type": "markdown",
   "metadata": {},
   "source": [
    "## Packaging and Organizing Your Python Code"
   ]
  },
  {
   "cell_type": "markdown",
   "metadata": {},
   "source": [
    "One of the challenges of using Python and the PyData ecosystem for data analysis is that it doesn't come set up for the typical use case."
   ]
  },
  {
   "cell_type": "markdown",
   "metadata": {},
   "source": [
    "When I used Stata, there was a standard method for writing scripts, logging results and creating stored procedures to use later. This is spelled out in all the examples, so there is a shared culture."
   ]
  },
  {
   "cell_type": "markdown",
   "metadata": {},
   "source": [
    "With Python, because it is put to such diverse use cases, there is less of this shared culture."
   ]
  },
  {
   "cell_type": "markdown",
   "metadata": {},
   "source": [
    "This talk will discuss setting up some of the standard tools in order to have a better foundation to build upon. While Jupyter notebooks are great, and I think they are a killer feature of python - there is a point at which they make it more difficult to organize code."
   ]
  },
  {
   "cell_type": "markdown",
   "metadata": {},
   "source": [
    "### Outline"
   ]
  },
  {
   "cell_type": "markdown",
   "metadata": {},
   "source": [
    "* `conda` environments\n",
    "* `conda` revisions\n",
    "* \"Packaging\" for development\n",
    "    * `conda develop`\n",
    "    * `pip install -e`\n",
    "* logging\n",
    "* testing\n",
    "    * `py.test`\n",
    "    * numpy test suite"
   ]
  },
  {
   "cell_type": "markdown",
   "metadata": {
    "collapsed": true
   },
   "source": [
    "### Conda Environments"
   ]
  },
  {
   "cell_type": "markdown",
   "metadata": {},
   "source": [
    "This presentation is pretty specific to `conda` and Anaconda in general.\n",
    "Python itself has similar functionality (virtualenv). The big difference between `conda` and `pip` (the standard python package manager) is that `conda` is specifically designed to store multi-platform **binary** (i.e. they don't neeed to be complied) versions of the packages. (That's what makes it easy to install `numpy` and `scipy` via `conda`.)"
   ]
  },
  {
   "cell_type": "markdown",
   "metadata": {
    "collapsed": true
   },
   "source": [
    "Conda environments are great. They allow you to set up an isolated environment to install packages to work on projects. Environments can contain specific versions of a package."
   ]
  },
  {
   "cell_type": "markdown",
   "metadata": {
    "collapsed": true
   },
   "source": [
    "This allows you to do things like have a Python 2 and a Python 3 package running on the same machine. Or you could have two different versions of pandas."
   ]
  },
  {
   "cell_type": "markdown",
   "metadata": {},
   "source": [
    "`conda` does this by storing all the installed packages in one location (within the directory that you installed conda into). Each version of the package is stored separately."
   ]
  },
  {
   "cell_type": "markdown",
   "metadata": {},
   "source": [
    "The environments create _links_ to the actual packages, so you will only install a particular version of a package **once**, no matter how many environments it appears in."
   ]
  },
  {
   "cell_type": "markdown",
   "metadata": {},
   "source": [
    "The `conda create` command will create an environment. You can specify a package to install in the environment."
   ]
  },
  {
   "cell_type": "code",
   "execution_count": 2,
   "metadata": {
    "collapsed": false
   },
   "outputs": [
    {
     "name": "stdout",
     "output_type": "stream",
     "text": [
      "Fetching package metadata .......\n",
      "Solving package specifications: ..........\n",
      "\n",
      "Package plan for installation in environment /Users/sechilds/miniconda3/envs/pydata_demo:\n",
      "\n",
      "The following NEW packages will be INSTALLED:\n",
      "\n",
      "    _nb_ext_conf:       0.2.0-py35_0      \n",
      "    alabaster:          0.7.8-py35_0      \n",
      "    anaconda:           4.1.0-np111py35_0 \n",
      "    anaconda-client:    1.4.0-py35_0      \n",
      "    anaconda-navigator: 1.2.1-py35_0      \n",
      "    appnope:            0.1.0-py35_0      \n",
      "    appscript:          1.0.1-py35_0      \n",
      "    argcomplete:        1.0.0-py35_1      \n",
      "    astropy:            1.2.1-np111py35_0 \n",
      "    babel:              2.3.3-py35_0      \n",
      "    backports:          1.0-py35_0        \n",
      "    beautifulsoup4:     4.4.1-py35_0      \n",
      "    bitarray:           0.8.1-py35_0      \n",
      "    bokeh:              0.11.1-py35_0     \n",
      "    boto:               2.40.0-py35_0     \n",
      "    bottleneck:         1.0.0-np111py35_1 \n",
      "    cffi:               1.6.0-py35_0      \n",
      "    chest:              0.2.3-py35_0      \n",
      "    click:              6.6-py35_0        \n",
      "    cloudpickle:        0.2.1-py35_0      \n",
      "    clyent:             1.2.2-py35_0      \n",
      "    colorama:           0.3.7-py35_0      \n",
      "    configobj:          5.0.6-py35_0      \n",
      "    contextlib2:        0.5.3-py35_0      \n",
      "    cryptography:       1.4-py35_0        \n",
      "    curl:               7.49.0-0          \n",
      "    cycler:             0.10.0-py35_0     \n",
      "    cython:             0.24-py35_0       \n",
      "    cytoolz:            0.8.0-py35_0      \n",
      "    dask:               0.10.0-py35_0     \n",
      "    datashape:          0.5.2-py35_0      \n",
      "    decorator:          4.0.10-py35_0     \n",
      "    dill:               0.2.5-py35_0      \n",
      "    docutils:           0.12-py35_2       \n",
      "    dynd-python:        0.7.2-py35_0      \n",
      "    entrypoints:        0.2.2-py35_0      \n",
      "    et_xmlfile:         1.0.1-py35_0      \n",
      "    fastcache:          1.0.2-py35_1      \n",
      "    flask:              0.11.1-py35_0     \n",
      "    flask-cors:         2.1.2-py35_0      \n",
      "    freetype:           2.5.5-1           \n",
      "    get_terminal_size:  1.0.0-py35_0      \n",
      "    gevent:             1.1.1-py35_0      \n",
      "    greenlet:           0.4.10-py35_0     \n",
      "    h5py:               2.6.0-np111py35_1 \n",
      "    hdf5:               1.8.16-0          \n",
      "    heapdict:           1.0.0-py35_1      \n",
      "    idna:               2.1-py35_0        \n",
      "    imagesize:          0.7.1-py35_0      \n",
      "    ipykernel:          4.3.1-py35_0      \n",
      "    ipython:            4.2.0-py35_1      \n",
      "    ipython_genutils:   0.1.0-py35_0      \n",
      "    ipywidgets:         4.1.1-py35_0      \n",
      "    itsdangerous:       0.24-py35_0       \n",
      "    jbig:               2.1-0             \n",
      "    jdcal:              1.2-py35_1        \n",
      "    jedi:               0.9.0-py35_1      \n",
      "    jinja2:             2.8-py35_1        \n",
      "    jpeg:               8d-1              \n",
      "    jsonschema:         2.5.1-py35_0      \n",
      "    jupyter:            1.0.0-py35_3      \n",
      "    jupyter_client:     4.3.0-py35_0      \n",
      "    jupyter_console:    4.1.1-py35_0      \n",
      "    jupyter_core:       4.1.0-py35_0      \n",
      "    libdynd:            0.7.2-0           \n",
      "    libpng:             1.6.22-0          \n",
      "    libtiff:            4.0.6-2           \n",
      "    libxml2:            2.9.2-0           \n",
      "    libxslt:            1.1.28-2          \n",
      "    llvmlite:           0.11.0-py35_0     \n",
      "    locket:             0.2.0-py35_1      \n",
      "    lxml:               3.6.0-py35_0      \n",
      "    markupsafe:         0.23-py35_2       \n",
      "    matplotlib:         1.5.1-np111py35_0 \n",
      "    mistune:            0.7.2-py35_1      \n",
      "    mkl:                11.3.3-0          \n",
      "    mkl-service:        1.1.2-py35_2      \n",
      "    mpmath:             0.19-py35_1       \n",
      "    multipledispatch:   0.4.8-py35_0      \n",
      "    nb_anacondacloud:   1.1.0-py35_0      \n",
      "    nb_conda:           1.1.0-py35_0      \n",
      "    nb_conda_kernels:   1.0.3-py35_0      \n",
      "    nbconvert:          4.2.0-py35_0      \n",
      "    nbformat:           4.0.1-py35_0      \n",
      "    nbpresent:          3.0.2-py35_0      \n",
      "    networkx:           1.11-py35_0       \n",
      "    nltk:               3.2.1-py35_0      \n",
      "    nose:               1.3.7-py35_1      \n",
      "    notebook:           4.2.1-py35_0      \n",
      "    numba:              0.26.0-np111py35_0\n",
      "    numexpr:            2.6.0-np111py35_0 \n",
      "    numpy:              1.11.0-py35_2     \n",
      "    odo:                0.5.0-py35_0      \n",
      "    openpyxl:           2.3.2-py35_0      \n",
      "    openssl:            1.0.2h-1          \n",
      "    pandas:             0.18.1-np111py35_0\n",
      "    partd:              0.3.4-py35_0      \n",
      "    path.py:            8.2.1-py35_0      \n",
      "    pathlib2:           2.1.0-py35_0      \n",
      "    patsy:              0.4.1-py35_0      \n",
      "    pep8:               1.7.0-py35_0      \n",
      "    pexpect:            4.0.1-py35_0      \n",
      "    pickleshare:        0.7.2-py35_0      \n",
      "    pillow:             3.2.0-py35_1      \n",
      "    pip:                8.1.2-py35_0      \n",
      "    ply:                3.8-py35_0        \n",
      "    psutil:             4.3.0-py35_0      \n",
      "    ptyprocess:         0.5.1-py35_0      \n",
      "    py:                 1.4.31-py35_0     \n",
      "    pyasn1:             0.1.9-py35_0      \n",
      "    pycosat:            0.6.1-py35_1      \n",
      "    pycparser:          2.14-py35_1       \n",
      "    pycrypto:           2.6.1-py35_4      \n",
      "    pycurl:             7.43.0-py35_0     \n",
      "    pyflakes:           1.2.3-py35_0      \n",
      "    pygments:           2.1.3-py35_0      \n",
      "    pyopenssl:          0.16.0-py35_0     \n",
      "    pyparsing:          2.1.4-py35_0      \n",
      "    pyqt:               4.11.4-py35_3     \n",
      "    pytables:           3.2.2-np111py35_4 \n",
      "    pytest:             2.9.2-py35_0      \n",
      "    python:             3.5.1-5           \n",
      "    python-dateutil:    2.5.3-py35_0      \n",
      "    python.app:         1.2-py35_4        \n",
      "    pytz:               2016.4-py35_0     \n",
      "    pyyaml:             3.11-py35_4       \n",
      "    pyzmq:              15.2.0-py35_1     \n",
      "    qt:                 4.8.7-3           \n",
      "    qtconsole:          4.2.1-py35_0      \n",
      "    qtpy:               1.0.2-py35_0      \n",
      "    readline:           6.2-2             \n",
      "    redis:              3.2.0-0           \n",
      "    redis-py:           2.10.5-py35_0     \n",
      "    requests:           2.10.0-py35_0     \n",
      "    rope:               0.9.4-py35_1      \n",
      "    ruamel_yaml:        0.11.7-py35_0     \n",
      "    scikit-image:       0.12.3-np111py35_1\n",
      "    scikit-learn:       0.17.1-np111py35_2\n",
      "    scipy:              0.17.1-np111py35_1\n",
      "    setuptools:         23.0.0-py35_0     \n",
      "    simplegeneric:      0.8.1-py35_1      \n",
      "    singledispatch:     3.4.0.3-py35_0    \n",
      "    sip:                4.16.9-py35_0     \n",
      "    six:                1.10.0-py35_0     \n",
      "    snowballstemmer:    1.2.1-py35_0      \n",
      "    sockjs-tornado:     1.0.3-py35_0      \n",
      "    sphinx:             1.4.1-py35_0      \n",
      "    sphinx_rtd_theme:   0.1.9-py35_0      \n",
      "    spyder:             2.3.9-py35_0      \n",
      "    sqlalchemy:         1.0.13-py35_0     \n",
      "    sqlite:             3.13.0-0          \n",
      "    statsmodels:        0.6.1-np111py35_1 \n",
      "    sympy:              1.0-py35_0        \n",
      "    terminado:          0.6-py35_0        \n",
      "    tk:                 8.5.18-0          \n",
      "    toolz:              0.8.0-py35_0      \n",
      "    tornado:            4.3-py35_1        \n",
      "    traitlets:          4.2.1-py35_0      \n",
      "    unicodecsv:         0.14.1-py35_0     \n",
      "    werkzeug:           0.11.10-py35_0    \n",
      "    wheel:              0.29.0-py35_0     \n",
      "    xlrd:               1.0.0-py35_0      \n",
      "    xlsxwriter:         0.9.2-py35_0      \n",
      "    xlwings:            0.7.2-py35_0      \n",
      "    xlwt:               1.1.2-py35_0      \n",
      "    xz:                 5.2.2-0           \n",
      "    yaml:               0.1.6-0           \n",
      "    zlib:               1.2.8-3           \n",
      "\n",
      "Linking packages ...\n",
      "[      COMPLETE      ]|###################################################| 100%\n",
      "#\n",
      "# To activate this environment, use:\n",
      "# $ source activate pydata_demo\n",
      "#\n",
      "# To deactivate this environment, use:\n",
      "# $ source deactivate\n",
      "#\n"
     ]
    }
   ],
   "source": [
    "!conda create -y --name pydata_demo anaconda"
   ]
  },
  {
   "cell_type": "markdown",
   "metadata": {},
   "source": [
    "You can get a list of the installed environments."
   ]
  },
  {
   "cell_type": "code",
   "execution_count": 3,
   "metadata": {
    "collapsed": false,
    "nbpresent": {
     "id": "2861a644-8296-4531-a2d4-bcf31304c2c2"
    }
   },
   "outputs": [
    {
     "name": "stdout",
     "output_type": "stream",
     "text": [
      "# conda environments:\n",
      "#\n",
      "dhcarpentry              /Users/sechilds/miniconda3/envs/dhcarpentry\n",
      "pydata_demo              /Users/sechilds/miniconda3/envs/pydata_demo\n",
      "pydata_test           *  /Users/sechilds/miniconda3/envs/pydata_test\n",
      "pydata_test2             /Users/sechilds/miniconda3/envs/pydata_test2\n",
      "python_testing           /Users/sechilds/miniconda3/envs/python_testing\n",
      "root                     /Users/sechilds/miniconda3\n",
      "\n"
     ]
    }
   ],
   "source": [
    "!conda info --envs"
   ]
  },
  {
   "cell_type": "markdown",
   "metadata": {},
   "source": [
    "It's easy to make a copy of an environment"
   ]
  },
  {
   "cell_type": "code",
   "execution_count": 5,
   "metadata": {
    "collapsed": false
   },
   "outputs": [
    {
     "name": "stdout",
     "output_type": "stream",
     "text": [
      "Source:      /Users/sechilds/miniconda3/envs/pydata_demo\n",
      "Destination: /Users/sechilds/miniconda3/envs/pydata_demo2\n",
      "Packages: 168\n",
      "Files: 5\n",
      "Linking packages ...\n",
      "[      COMPLETE      ]|###################################################| 100%\n",
      "#\n",
      "# To activate this environment, use:\n",
      "# $ source activate pydata_demo2\n",
      "#\n",
      "# To deactivate this environment, use:\n",
      "# $ source deactivate\n",
      "#\n"
     ]
    }
   ],
   "source": [
    "!conda create -y --name pydata_demo2 --clone pydata_demo"
   ]
  },
  {
   "cell_type": "code",
   "execution_count": 6,
   "metadata": {
    "collapsed": false,
    "nbpresent": {
     "id": "cc22b21f-b69b-4ace-bcfa-899fa3b8f268"
    }
   },
   "outputs": [
    {
     "name": "stdout",
     "output_type": "stream",
     "text": [
      "# conda environments:\r\n",
      "#\r\n",
      "dhcarpentry              /Users/sechilds/miniconda3/envs/dhcarpentry\r\n",
      "pydata_demo              /Users/sechilds/miniconda3/envs/pydata_demo\r\n",
      "pydata_demo2             /Users/sechilds/miniconda3/envs/pydata_demo2\r\n",
      "pydata_test           *  /Users/sechilds/miniconda3/envs/pydata_test\r\n",
      "pydata_test2             /Users/sechilds/miniconda3/envs/pydata_test2\r\n",
      "python_testing           /Users/sechilds/miniconda3/envs/python_testing\r\n",
      "root                     /Users/sechilds/miniconda3\r\n",
      "\r\n"
     ]
    }
   ],
   "source": [
    "!conda env list"
   ]
  },
  {
   "cell_type": "markdown",
   "metadata": {},
   "source": [
    "Deleting environments is done through the `conda remove` command."
   ]
  },
  {
   "cell_type": "code",
   "execution_count": 7,
   "metadata": {
    "collapsed": false,
    "nbpresent": {
     "id": "da6621f6-eaba-42b2-b6f6-061cea4c2f0d"
    }
   },
   "outputs": [
    {
     "name": "stdout",
     "output_type": "stream",
     "text": [
      "\n",
      "Package plan for package removal in environment /Users/sechilds/miniconda3/envs/pydata_demo2:\n",
      "\n",
      "The following packages will be REMOVED:\n",
      "\n",
      "    _nb_ext_conf:       0.2.0-py35_0      \n",
      "    alabaster:          0.7.8-py35_0      \n",
      "    anaconda:           4.1.0-np111py35_0 \n",
      "    anaconda-client:    1.4.0-py35_0      \n",
      "    anaconda-navigator: 1.2.1-py35_0      \n",
      "    appnope:            0.1.0-py35_0      \n",
      "    appscript:          1.0.1-py35_0      \n",
      "    argcomplete:        1.0.0-py35_1      \n",
      "    astropy:            1.2.1-np111py35_0 \n",
      "    babel:              2.3.3-py35_0      \n",
      "    backports:          1.0-py35_0        \n",
      "    beautifulsoup4:     4.4.1-py35_0      \n",
      "    bitarray:           0.8.1-py35_0      \n",
      "    bokeh:              0.11.1-py35_0     \n",
      "    boto:               2.40.0-py35_0     \n",
      "    bottleneck:         1.0.0-np111py35_1 \n",
      "    cffi:               1.6.0-py35_0      \n",
      "    chest:              0.2.3-py35_0      \n",
      "    click:              6.6-py35_0        \n",
      "    cloudpickle:        0.2.1-py35_0      \n",
      "    clyent:             1.2.2-py35_0      \n",
      "    colorama:           0.3.7-py35_0      \n",
      "    configobj:          5.0.6-py35_0      \n",
      "    contextlib2:        0.5.3-py35_0      \n",
      "    cryptography:       1.4-py35_0        \n",
      "    curl:               7.49.0-0          \n",
      "    cycler:             0.10.0-py35_0     \n",
      "    cython:             0.24-py35_0       \n",
      "    cytoolz:            0.8.0-py35_0      \n",
      "    dask:               0.10.0-py35_0     \n",
      "    datashape:          0.5.2-py35_0      \n",
      "    decorator:          4.0.10-py35_0     \n",
      "    dill:               0.2.5-py35_0      \n",
      "    docutils:           0.12-py35_2       \n",
      "    dynd-python:        0.7.2-py35_0      \n",
      "    entrypoints:        0.2.2-py35_0      \n",
      "    et_xmlfile:         1.0.1-py35_0      \n",
      "    fastcache:          1.0.2-py35_1      \n",
      "    flask:              0.11.1-py35_0     \n",
      "    flask-cors:         2.1.2-py35_0      \n",
      "    freetype:           2.5.5-1           \n",
      "    get_terminal_size:  1.0.0-py35_0      \n",
      "    gevent:             1.1.1-py35_0      \n",
      "    greenlet:           0.4.10-py35_0     \n",
      "    h5py:               2.6.0-np111py35_1 \n",
      "    hdf5:               1.8.16-0          \n",
      "    heapdict:           1.0.0-py35_1      \n",
      "    idna:               2.1-py35_0        \n",
      "    imagesize:          0.7.1-py35_0      \n",
      "    ipykernel:          4.3.1-py35_0      \n",
      "    ipython:            4.2.0-py35_1      \n",
      "    ipython_genutils:   0.1.0-py35_0      \n",
      "    ipywidgets:         4.1.1-py35_0      \n",
      "    itsdangerous:       0.24-py35_0       \n",
      "    jbig:               2.1-0             \n",
      "    jdcal:              1.2-py35_1        \n",
      "    jedi:               0.9.0-py35_1      \n",
      "    jinja2:             2.8-py35_1        \n",
      "    jpeg:               8d-1              \n",
      "    jsonschema:         2.5.1-py35_0      \n",
      "    jupyter:            1.0.0-py35_3      \n",
      "    jupyter_client:     4.3.0-py35_0      \n",
      "    jupyter_console:    4.1.1-py35_0      \n",
      "    jupyter_core:       4.1.0-py35_0      \n",
      "    libdynd:            0.7.2-0           \n",
      "    libpng:             1.6.22-0          \n",
      "    libtiff:            4.0.6-2           \n",
      "    libxml2:            2.9.2-0           \n",
      "    libxslt:            1.1.28-2          \n",
      "    llvmlite:           0.11.0-py35_0     \n",
      "    locket:             0.2.0-py35_1      \n",
      "    lxml:               3.6.0-py35_0      \n",
      "    markupsafe:         0.23-py35_2       \n",
      "    matplotlib:         1.5.1-np111py35_0 \n",
      "    mistune:            0.7.2-py35_1      \n",
      "    mkl:                11.3.3-0          \n",
      "    mkl-service:        1.1.2-py35_2      \n",
      "    mpmath:             0.19-py35_1       \n",
      "    multipledispatch:   0.4.8-py35_0      \n",
      "    nb_anacondacloud:   1.1.0-py35_0      \n",
      "    nb_conda:           1.1.0-py35_0      \n",
      "    nb_conda_kernels:   1.0.3-py35_0      \n",
      "    nbconvert:          4.2.0-py35_0      \n",
      "    nbformat:           4.0.1-py35_0      \n",
      "    nbpresent:          3.0.2-py35_0      \n",
      "    networkx:           1.11-py35_0       \n",
      "    nltk:               3.2.1-py35_0      \n",
      "    nose:               1.3.7-py35_1      \n",
      "    notebook:           4.2.1-py35_0      \n",
      "    numba:              0.26.0-np111py35_0\n",
      "    numexpr:            2.6.0-np111py35_0 \n",
      "    numpy:              1.11.0-py35_2     \n",
      "    odo:                0.5.0-py35_0      \n",
      "    openpyxl:           2.3.2-py35_0      \n",
      "    openssl:            1.0.2h-1          \n",
      "    pandas:             0.18.1-np111py35_0\n",
      "    partd:              0.3.4-py35_0      \n",
      "    path.py:            8.2.1-py35_0      \n",
      "    pathlib2:           2.1.0-py35_0      \n",
      "    patsy:              0.4.1-py35_0      \n",
      "    pep8:               1.7.0-py35_0      \n",
      "    pexpect:            4.0.1-py35_0      \n",
      "    pickleshare:        0.7.2-py35_0      \n",
      "    pillow:             3.2.0-py35_1      \n",
      "    pip:                8.1.2-py35_0      \n",
      "    ply:                3.8-py35_0        \n",
      "    psutil:             4.3.0-py35_0      \n",
      "    ptyprocess:         0.5.1-py35_0      \n",
      "    py:                 1.4.31-py35_0     \n",
      "    pyasn1:             0.1.9-py35_0      \n",
      "    pycosat:            0.6.1-py35_1      \n",
      "    pycparser:          2.14-py35_1       \n",
      "    pycrypto:           2.6.1-py35_4      \n",
      "    pycurl:             7.43.0-py35_0     \n",
      "    pyflakes:           1.2.3-py35_0      \n",
      "    pygments:           2.1.3-py35_0      \n",
      "    pyopenssl:          0.16.0-py35_0     \n",
      "    pyparsing:          2.1.4-py35_0      \n",
      "    pyqt:               4.11.4-py35_3     \n",
      "    pytables:           3.2.2-np111py35_4 \n",
      "    pytest:             2.9.2-py35_0      \n",
      "    python:             3.5.1-5           \n",
      "    python-dateutil:    2.5.3-py35_0      \n",
      "    python.app:         1.2-py35_4        \n",
      "    pytz:               2016.4-py35_0     \n",
      "    pyyaml:             3.11-py35_4       \n",
      "    pyzmq:              15.2.0-py35_1     \n",
      "    qt:                 4.8.7-3           \n",
      "    qtconsole:          4.2.1-py35_0      \n",
      "    qtpy:               1.0.2-py35_0      \n",
      "    readline:           6.2-2             \n",
      "    redis:              3.2.0-0           \n",
      "    redis-py:           2.10.5-py35_0     \n",
      "    requests:           2.10.0-py35_0     \n",
      "    rope:               0.9.4-py35_1      \n",
      "    ruamel_yaml:        0.11.7-py35_0     \n",
      "    scikit-image:       0.12.3-np111py35_1\n",
      "    scikit-learn:       0.17.1-np111py35_2\n",
      "    scipy:              0.17.1-np111py35_1\n",
      "    setuptools:         23.0.0-py35_0     \n",
      "    simplegeneric:      0.8.1-py35_1      \n",
      "    singledispatch:     3.4.0.3-py35_0    \n",
      "    sip:                4.16.9-py35_0     \n",
      "    six:                1.10.0-py35_0     \n",
      "    snowballstemmer:    1.2.1-py35_0      \n",
      "    sockjs-tornado:     1.0.3-py35_0      \n",
      "    sphinx:             1.4.1-py35_0      \n",
      "    sphinx_rtd_theme:   0.1.9-py35_0      \n",
      "    spyder:             2.3.9-py35_0      \n",
      "    sqlalchemy:         1.0.13-py35_0     \n",
      "    sqlite:             3.13.0-0          \n",
      "    statsmodels:        0.6.1-np111py35_1 \n",
      "    sympy:              1.0-py35_0        \n",
      "    terminado:          0.6-py35_0        \n",
      "    tk:                 8.5.18-0          \n",
      "    toolz:              0.8.0-py35_0      \n",
      "    tornado:            4.3-py35_1        \n",
      "    traitlets:          4.2.1-py35_0      \n",
      "    unicodecsv:         0.14.1-py35_0     \n",
      "    werkzeug:           0.11.10-py35_0    \n",
      "    wheel:              0.29.0-py35_0     \n",
      "    xlrd:               1.0.0-py35_0      \n",
      "    xlsxwriter:         0.9.2-py35_0      \n",
      "    xlwings:            0.7.2-py35_0      \n",
      "    xlwt:               1.1.2-py35_0      \n",
      "    xz:                 5.2.2-0           \n",
      "    yaml:               0.1.6-0           \n",
      "    zlib:               1.2.8-3           \n",
      "\n",
      "Unlinking packages ...\n",
      "[      COMPLETE      ]|###################################################| 100%\n"
     ]
    }
   ],
   "source": [
    "!conda remove --name pydata_demo2 -y --all"
   ]
  },
  {
   "cell_type": "code",
   "execution_count": 8,
   "metadata": {
    "collapsed": false,
    "nbpresent": {
     "id": "8edb4de6-7f75-4c78-92ef-43eb09b2e069"
    }
   },
   "outputs": [
    {
     "name": "stdout",
     "output_type": "stream",
     "text": [
      "\n",
      "Package plan for package removal in environment /Users/sechilds/miniconda3/envs/pydata_demo:\n",
      "\n",
      "The following packages will be REMOVED:\n",
      "\n",
      "    _nb_ext_conf:       0.2.0-py35_0      \n",
      "    alabaster:          0.7.8-py35_0      \n",
      "    anaconda:           4.1.0-np111py35_0 \n",
      "    anaconda-client:    1.4.0-py35_0      \n",
      "    anaconda-navigator: 1.2.1-py35_0      \n",
      "    appnope:            0.1.0-py35_0      \n",
      "    appscript:          1.0.1-py35_0      \n",
      "    argcomplete:        1.0.0-py35_1      \n",
      "    astropy:            1.2.1-np111py35_0 \n",
      "    babel:              2.3.3-py35_0      \n",
      "    backports:          1.0-py35_0        \n",
      "    beautifulsoup4:     4.4.1-py35_0      \n",
      "    bitarray:           0.8.1-py35_0      \n",
      "    bokeh:              0.11.1-py35_0     \n",
      "    boto:               2.40.0-py35_0     \n",
      "    bottleneck:         1.0.0-np111py35_1 \n",
      "    cffi:               1.6.0-py35_0      \n",
      "    chest:              0.2.3-py35_0      \n",
      "    click:              6.6-py35_0        \n",
      "    cloudpickle:        0.2.1-py35_0      \n",
      "    clyent:             1.2.2-py35_0      \n",
      "    colorama:           0.3.7-py35_0      \n",
      "    configobj:          5.0.6-py35_0      \n",
      "    contextlib2:        0.5.3-py35_0      \n",
      "    cryptography:       1.4-py35_0        \n",
      "    curl:               7.49.0-0          \n",
      "    cycler:             0.10.0-py35_0     \n",
      "    cython:             0.24-py35_0       \n",
      "    cytoolz:            0.8.0-py35_0      \n",
      "    dask:               0.10.0-py35_0     \n",
      "    datashape:          0.5.2-py35_0      \n",
      "    decorator:          4.0.10-py35_0     \n",
      "    dill:               0.2.5-py35_0      \n",
      "    docutils:           0.12-py35_2       \n",
      "    dynd-python:        0.7.2-py35_0      \n",
      "    entrypoints:        0.2.2-py35_0      \n",
      "    et_xmlfile:         1.0.1-py35_0      \n",
      "    fastcache:          1.0.2-py35_1      \n",
      "    flask:              0.11.1-py35_0     \n",
      "    flask-cors:         2.1.2-py35_0      \n",
      "    freetype:           2.5.5-1           \n",
      "    get_terminal_size:  1.0.0-py35_0      \n",
      "    gevent:             1.1.1-py35_0      \n",
      "    greenlet:           0.4.10-py35_0     \n",
      "    h5py:               2.6.0-np111py35_1 \n",
      "    hdf5:               1.8.16-0          \n",
      "    heapdict:           1.0.0-py35_1      \n",
      "    idna:               2.1-py35_0        \n",
      "    imagesize:          0.7.1-py35_0      \n",
      "    ipykernel:          4.3.1-py35_0      \n",
      "    ipython:            4.2.0-py35_1      \n",
      "    ipython_genutils:   0.1.0-py35_0      \n",
      "    ipywidgets:         4.1.1-py35_0      \n",
      "    itsdangerous:       0.24-py35_0       \n",
      "    jbig:               2.1-0             \n",
      "    jdcal:              1.2-py35_1        \n",
      "    jedi:               0.9.0-py35_1      \n",
      "    jinja2:             2.8-py35_1        \n",
      "    jpeg:               8d-1              \n",
      "    jsonschema:         2.5.1-py35_0      \n",
      "    jupyter:            1.0.0-py35_3      \n",
      "    jupyter_client:     4.3.0-py35_0      \n",
      "    jupyter_console:    4.1.1-py35_0      \n",
      "    jupyter_core:       4.1.0-py35_0      \n",
      "    libdynd:            0.7.2-0           \n",
      "    libpng:             1.6.22-0          \n",
      "    libtiff:            4.0.6-2           \n",
      "    libxml2:            2.9.2-0           \n",
      "    libxslt:            1.1.28-2          \n",
      "    llvmlite:           0.11.0-py35_0     \n",
      "    locket:             0.2.0-py35_1      \n",
      "    lxml:               3.6.0-py35_0      \n",
      "    markupsafe:         0.23-py35_2       \n",
      "    matplotlib:         1.5.1-np111py35_0 \n",
      "    mistune:            0.7.2-py35_1      \n",
      "    mkl:                11.3.3-0          \n",
      "    mkl-service:        1.1.2-py35_2      \n",
      "    mpmath:             0.19-py35_1       \n",
      "    multipledispatch:   0.4.8-py35_0      \n",
      "    nb_anacondacloud:   1.1.0-py35_0      \n",
      "    nb_conda:           1.1.0-py35_0      \n",
      "    nb_conda_kernels:   1.0.3-py35_0      \n",
      "    nbconvert:          4.2.0-py35_0      \n",
      "    nbformat:           4.0.1-py35_0      \n",
      "    nbpresent:          3.0.2-py35_0      \n",
      "    networkx:           1.11-py35_0       \n",
      "    nltk:               3.2.1-py35_0      \n",
      "    nose:               1.3.7-py35_1      \n",
      "    notebook:           4.2.1-py35_0      \n",
      "    numba:              0.26.0-np111py35_0\n",
      "    numexpr:            2.6.0-np111py35_0 \n",
      "    numpy:              1.11.0-py35_2     \n",
      "    odo:                0.5.0-py35_0      \n",
      "    openpyxl:           2.3.2-py35_0      \n",
      "    openssl:            1.0.2h-1          \n",
      "    pandas:             0.18.1-np111py35_0\n",
      "    partd:              0.3.4-py35_0      \n",
      "    path.py:            8.2.1-py35_0      \n",
      "    pathlib2:           2.1.0-py35_0      \n",
      "    patsy:              0.4.1-py35_0      \n",
      "    pep8:               1.7.0-py35_0      \n",
      "    pexpect:            4.0.1-py35_0      \n",
      "    pickleshare:        0.7.2-py35_0      \n",
      "    pillow:             3.2.0-py35_1      \n",
      "    pip:                8.1.2-py35_0      \n",
      "    ply:                3.8-py35_0        \n",
      "    psutil:             4.3.0-py35_0      \n",
      "    ptyprocess:         0.5.1-py35_0      \n",
      "    py:                 1.4.31-py35_0     \n",
      "    pyasn1:             0.1.9-py35_0      \n",
      "    pycosat:            0.6.1-py35_1      \n",
      "    pycparser:          2.14-py35_1       \n",
      "    pycrypto:           2.6.1-py35_4      \n",
      "    pycurl:             7.43.0-py35_0     \n",
      "    pyflakes:           1.2.3-py35_0      \n",
      "    pygments:           2.1.3-py35_0      \n",
      "    pyopenssl:          0.16.0-py35_0     \n",
      "    pyparsing:          2.1.4-py35_0      \n",
      "    pyqt:               4.11.4-py35_3     \n",
      "    pytables:           3.2.2-np111py35_4 \n",
      "    pytest:             2.9.2-py35_0      \n",
      "    python:             3.5.1-5           \n",
      "    python-dateutil:    2.5.3-py35_0      \n",
      "    python.app:         1.2-py35_4        \n",
      "    pytz:               2016.4-py35_0     \n",
      "    pyyaml:             3.11-py35_4       \n",
      "    pyzmq:              15.2.0-py35_1     \n",
      "    qt:                 4.8.7-3           \n",
      "    qtconsole:          4.2.1-py35_0      \n",
      "    qtpy:               1.0.2-py35_0      \n",
      "    readline:           6.2-2             \n",
      "    redis:              3.2.0-0           \n",
      "    redis-py:           2.10.5-py35_0     \n",
      "    requests:           2.10.0-py35_0     \n",
      "    rope:               0.9.4-py35_1      \n",
      "    ruamel_yaml:        0.11.7-py35_0     \n",
      "    scikit-image:       0.12.3-np111py35_1\n",
      "    scikit-learn:       0.17.1-np111py35_2\n",
      "    scipy:              0.17.1-np111py35_1\n",
      "    setuptools:         23.0.0-py35_0     \n",
      "    simplegeneric:      0.8.1-py35_1      \n",
      "    singledispatch:     3.4.0.3-py35_0    \n",
      "    sip:                4.16.9-py35_0     \n",
      "    six:                1.10.0-py35_0     \n",
      "    snowballstemmer:    1.2.1-py35_0      \n",
      "    sockjs-tornado:     1.0.3-py35_0      \n",
      "    sphinx:             1.4.1-py35_0      \n",
      "    sphinx_rtd_theme:   0.1.9-py35_0      \n",
      "    spyder:             2.3.9-py35_0      \n",
      "    sqlalchemy:         1.0.13-py35_0     \n",
      "    sqlite:             3.13.0-0          \n",
      "    statsmodels:        0.6.1-np111py35_1 \n",
      "    sympy:              1.0-py35_0        \n",
      "    terminado:          0.6-py35_0        \n",
      "    tk:                 8.5.18-0          \n",
      "    toolz:              0.8.0-py35_0      \n",
      "    tornado:            4.3-py35_1        \n",
      "    traitlets:          4.2.1-py35_0      \n",
      "    unicodecsv:         0.14.1-py35_0     \n",
      "    werkzeug:           0.11.10-py35_0    \n",
      "    wheel:              0.29.0-py35_0     \n",
      "    xlrd:               1.0.0-py35_0      \n",
      "    xlsxwriter:         0.9.2-py35_0      \n",
      "    xlwings:            0.7.2-py35_0      \n",
      "    xlwt:               1.1.2-py35_0      \n",
      "    xz:                 5.2.2-0           \n",
      "    yaml:               0.1.6-0           \n",
      "    zlib:               1.2.8-3           \n",
      "\n",
      "Unlinking packages ...\n",
      "[      COMPLETE      ]|###################################################| 100%\n"
     ]
    }
   ],
   "source": [
    "!conda remove --name pydata_demo -y --all"
   ]
  },
  {
   "cell_type": "code",
   "execution_count": 9,
   "metadata": {
    "collapsed": false,
    "nbpresent": {
     "id": "7371e95f-1623-4c44-b624-b35162015612"
    }
   },
   "outputs": [
    {
     "name": "stdout",
     "output_type": "stream",
     "text": [
      "# conda environments:\r\n",
      "#\r\n",
      "dhcarpentry              /Users/sechilds/miniconda3/envs/dhcarpentry\r\n",
      "pydata_test           *  /Users/sechilds/miniconda3/envs/pydata_test\r\n",
      "pydata_test2             /Users/sechilds/miniconda3/envs/pydata_test2\r\n",
      "python_testing           /Users/sechilds/miniconda3/envs/python_testing\r\n",
      "root                     /Users/sechilds/miniconda3\r\n",
      "\r\n"
     ]
    }
   ],
   "source": [
    "!conda env list"
   ]
  },
  {
   "cell_type": "markdown",
   "metadata": {
    "collapsed": true
   },
   "source": [
    "If you want to know which packages are installed in your current environment, try `conda list`:"
   ]
  },
  {
   "cell_type": "code",
   "execution_count": 10,
   "metadata": {
    "collapsed": false,
    "nbpresent": {
     "id": "ddc466e5-3fc8-44f0-9b78-48aa76b98024"
    }
   },
   "outputs": [
    {
     "name": "stdout",
     "output_type": "stream",
     "text": [
      "# packages in environment at /Users/sechilds/miniconda3/envs/pydata_test:\n",
      "#\n",
      "_nb_ext_conf              0.2.0                    py35_0  \n",
      "alabaster                 0.7.8                    py35_0  \n",
      "anaconda                  4.1.0               np111py35_0  \n",
      "anaconda-client           1.4.0                    py35_0  \n",
      "anaconda-navigator        1.2.1                    py35_0  \n",
      "appnope                   0.1.0                    py35_0  \n",
      "appscript                 1.0.1                    py35_0  \n",
      "argcomplete               1.0.0                    py35_1  \n",
      "astropy                   1.2.1               np111py35_0  \n",
      "babel                     2.3.3                    py35_0  \n",
      "backports                 1.0                      py35_0  \n",
      "beautifulsoup4            4.4.1                    py35_0  \n",
      "bitarray                  0.8.1                    py35_0  \n",
      "bokeh                     0.11.1                   py35_0  \n",
      "boto                      2.40.0                   py35_0  \n",
      "bottleneck                1.0.0               np111py35_1  \n",
      "cffi                      1.6.0                    py35_0  \n",
      "chest                     0.2.3                    py35_0  \n",
      "click                     6.6                      py35_0  \n",
      "cloudpickle               0.2.1                    py35_0  \n",
      "clyent                    1.2.2                    py35_0  \n",
      "colorama                  0.3.7                    py35_0  \n",
      "configobj                 5.0.6                    py35_0  \n",
      "contextlib2               0.5.3                    py35_0  \n",
      "cryptography              1.4                      py35_0  \n",
      "curl                      7.49.0                        0  \n",
      "cycler                    0.10.0                   py35_0  \n",
      "cython                    0.24                     py35_0  \n",
      "cytoolz                   0.8.0                    py35_0  \n",
      "dask                      0.10.0                   py35_0  \n",
      "datashape                 0.5.2                    py35_0  \n",
      "decorator                 4.0.10                   py35_0  \n",
      "dill                      0.2.5                    py35_0  \n",
      "docutils                  0.12                     py35_2  \n",
      "dynd-python               0.7.2                    py35_0  \n",
      "entrypoints               0.2.2                    py35_0  \n",
      "et_xmlfile                1.0.1                    py35_0  \n",
      "fastcache                 1.0.2                    py35_1  \n",
      "flask                     0.11.1                   py35_0  \n",
      "flask-cors                2.1.2                    py35_0  \n",
      "freetype                  2.5.5                         1  \n",
      "get_terminal_size         1.0.0                    py35_0  \n",
      "gevent                    1.1.1                    py35_0  \n",
      "greenlet                  0.4.10                   py35_0  \n",
      "h5py                      2.6.0               np111py35_1  \n",
      "hdf5                      1.8.16                        0  \n",
      "heapdict                  1.0.0                    py35_1  \n",
      "idna                      2.1                      py35_0  \n",
      "imagesize                 0.7.1                    py35_0  \n",
      "ipykernel                 4.3.1                    py35_0  \n",
      "ipython                   4.2.0                    py35_1  \n",
      "ipython_genutils          0.1.0                    py35_0  \n",
      "ipywidgets                4.1.1                    py35_0  \n",
      "itsdangerous              0.24                     py35_0  \n",
      "jbig                      2.1                           0  \n",
      "jdcal                     1.2                      py35_1  \n",
      "jedi                      0.9.0                    py35_1  \n",
      "jinja2                    2.8                      py35_1  \n",
      "jpeg                      8d                            1  \n",
      "jsonschema                2.5.1                    py35_0  \n",
      "jupyter                   1.0.0                    py35_3  \n",
      "jupyter_client            4.3.0                    py35_0  \n",
      "jupyter_console           4.1.1                    py35_0  \n",
      "jupyter_core              4.1.0                    py35_0  \n",
      "libdynd                   0.7.2                         0  \n",
      "libpng                    1.6.22                        0  \n",
      "libtiff                   4.0.6                         2  \n",
      "libxml2                   2.9.2                         0  \n",
      "libxslt                   1.1.28                        2  \n",
      "llvmlite                  0.11.0                   py35_0  \n",
      "locket                    0.2.0                    py35_1  \n",
      "lxml                      3.6.0                    py35_0  \n",
      "markupsafe                0.23                     py35_2  \n",
      "matplotlib                1.5.1               np111py35_0  \n",
      "mistune                   0.7.2                    py35_1  \n",
      "mkl                       11.3.3                        0  \n",
      "mkl-service               1.1.2                    py35_2  \n",
      "mpmath                    0.19                     py35_1  \n",
      "multipledispatch          0.4.8                    py35_0  \n",
      "nb_anacondacloud          1.1.0                    py35_0  \n",
      "nb_conda                  1.1.0                    py35_0  \n",
      "nb_conda_kernels          1.0.3                    py35_0  \n",
      "nbconvert                 4.2.0                    py35_0  \n",
      "nbformat                  4.0.1                    py35_0  \n",
      "nbpresent                 3.0.2                    py35_0  \n",
      "networkx                  1.11                     py35_0  \n",
      "nltk                      3.2.1                    py35_0  \n",
      "nose                      1.3.7                    py35_1  \n",
      "notebook                  4.2.1                    py35_0  \n",
      "numba                     0.26.0              np111py35_0  \n",
      "numexpr                   2.6.0               np111py35_0  \n",
      "numpy                     1.11.0                   py35_2  \n",
      "odo                       0.5.0                    py35_0  \n",
      "openpyxl                  2.3.2                    py35_0  \n",
      "openssl                   1.0.2h                        1  \n",
      "pandas                    0.18.1              np111py35_0  \n",
      "partd                     0.3.4                    py35_0  \n",
      "path.py                   8.2.1                    py35_0  \n",
      "pathlib2                  2.1.0                    py35_0  \n",
      "patsy                     0.4.1                    py35_0  \n",
      "pep8                      1.7.0                    py35_0  \n",
      "pexpect                   4.0.1                    py35_0  \n",
      "pickleshare               0.7.2                    py35_0  \n",
      "pillow                    3.2.0                    py35_1  \n",
      "pip                       8.1.2                    py35_0  \n",
      "ply                       3.8                      py35_0  \n",
      "psutil                    4.3.0                    py35_0  \n",
      "ptyprocess                0.5.1                    py35_0  \n",
      "py                        1.4.31                   py35_0  \n",
      "pyasn1                    0.1.9                    py35_0  \n",
      "pycosat                   0.6.1                    py35_1  \n",
      "pycparser                 2.14                     py35_1  \n",
      "pycrypto                  2.6.1                    py35_4  \n",
      "pycurl                    7.43.0                   py35_0  \n",
      "pyflakes                  1.2.3                    py35_0  \n",
      "pygments                  2.1.3                    py35_0  \n",
      "pyopenssl                 0.16.0                   py35_0  \n",
      "pyparsing                 2.1.4                    py35_0  \n",
      "pyqt                      4.11.4                   py35_3  \n",
      "pytables                  3.2.2               np111py35_4  \n",
      "pytest                    2.9.2                    py35_0  \n",
      "python                    3.5.1                         5  \n",
      "python-dateutil           2.5.3                    py35_0  \n",
      "python.app                1.2                      py35_4  \n",
      "pytz                      2016.4                   py35_0  \n",
      "pyyaml                    3.11                     py35_4  \n",
      "pyzmq                     15.2.0                   py35_1  \n",
      "qt                        4.8.7                         3  \n",
      "qtconsole                 4.2.1                    py35_0  \n",
      "qtpy                      1.0.2                    py35_0  \n",
      "readline                  6.2                           2  \n",
      "redis                     3.2.0                         0  \n",
      "redis-py                  2.10.5                   py35_0  \n",
      "requests                  2.10.0                   py35_0  \n",
      "rope                      0.9.4                    py35_1  \n",
      "ruamel_yaml               0.11.7                   py35_0  \n",
      "scikit-image              0.12.3              np111py35_1  \n",
      "scikit-learn              0.17.1              np111py35_2  \n",
      "scipy                     0.17.1              np111py35_1  \n",
      "setuptools                23.0.0                   py35_0  \n",
      "simplegeneric             0.8.1                    py35_1  \n",
      "singledispatch            3.4.0.3                  py35_0  \n",
      "sip                       4.16.9                   py35_0  \n",
      "six                       1.10.0                   py35_0  \n",
      "snowballstemmer           1.2.1                    py35_0  \n",
      "sockjs-tornado            1.0.3                    py35_0  \n",
      "sphinx                    1.4.1                    py35_0  \n",
      "sphinx_rtd_theme          0.1.9                    py35_0  \n",
      "spyder                    2.3.9                    py35_0  \n",
      "sqlalchemy                1.0.13                   py35_0  \n",
      "sqlite                    3.13.0                        0  \n",
      "statsmodels               0.6.1               np111py35_1  \n",
      "sympy                     1.0                      py35_0  \n",
      "terminado                 0.6                      py35_0  \n",
      "tk                        8.5.18                        0  \n",
      "toolz                     0.8.0                    py35_0  \n",
      "tornado                   4.3                      py35_1  \n",
      "traitlets                 4.2.1                    py35_0  \n",
      "unicodecsv                0.14.1                   py35_0  \n",
      "werkzeug                  0.11.10                  py35_0  \n",
      "wheel                     0.29.0                   py35_0  \n",
      "xlrd                      1.0.0                    py35_0  \n",
      "xlsxwriter                0.9.2                    py35_0  \n",
      "xlwings                   0.7.2                    py35_0  \n",
      "xlwt                      1.1.2                    py35_0  \n",
      "xz                        5.2.2                         0  \n",
      "yaml                      0.1.6                         0  \n",
      "zlib                      1.2.8                         3  \n"
     ]
    }
   ],
   "source": [
    "!conda list"
   ]
  },
  {
   "cell_type": "markdown",
   "metadata": {
    "collapsed": true
   },
   "source": [
    "The important thing to note about packages is that we not only track the version number (the middle column), but we also have a string that represents the python version (the `py35` part) and -- if applicable -- the `numpy` version (the `np111` part)."
   ]
  },
  {
   "cell_type": "markdown",
   "metadata": {},
   "source": [
    "This is because `conda` packages contain binaries and not just source code."
   ]
  },
  {
   "cell_type": "markdown",
   "metadata": {
    "collapsed": true
   },
   "source": [
    "If you want to see the changes to the packages install in an environment, try the `--revisions` option:"
   ]
  },
  {
   "cell_type": "code",
   "execution_count": 11,
   "metadata": {
    "collapsed": false,
    "nbpresent": {
     "id": "95505a92-0b81-4a1a-88ad-3a937185bf0a"
    }
   },
   "outputs": [
    {
     "name": "stdout",
     "output_type": "stream",
     "text": [
      "2016-07-04 07:43:34  (rev 0)\r\n",
      "    _nb_ext_conf-0.2.0-py35_0\r\n",
      "    alabaster-0.7.8-py35_0\r\n",
      "    anaconda-4.1.0-np111py35_0\r\n",
      "    anaconda-client-1.4.0-py35_0\r\n",
      "    anaconda-navigator-1.2.1-py35_0\r\n",
      "    appnope-0.1.0-py35_0\r\n",
      "    appscript-1.0.1-py35_0\r\n",
      "    argcomplete-1.0.0-py35_1\r\n",
      "    astropy-1.2.1-np111py35_0\r\n",
      "    babel-2.3.3-py35_0\r\n",
      "    backports-1.0-py35_0\r\n",
      "    beautifulsoup4-4.4.1-py35_0\r\n",
      "    bitarray-0.8.1-py35_0\r\n",
      "    bokeh-0.11.1-py35_0\r\n",
      "    boto-2.40.0-py35_0\r\n",
      "    bottleneck-1.0.0-np111py35_1\r\n",
      "    cffi-1.6.0-py35_0\r\n",
      "    chest-0.2.3-py35_0\r\n",
      "    click-6.6-py35_0\r\n",
      "    cloudpickle-0.2.1-py35_0\r\n",
      "    clyent-1.2.2-py35_0\r\n",
      "    colorama-0.3.7-py35_0\r\n",
      "    configobj-5.0.6-py35_0\r\n",
      "    contextlib2-0.5.3-py35_0\r\n",
      "    cryptography-1.4-py35_0\r\n",
      "    curl-7.49.0-0\r\n",
      "    cycler-0.10.0-py35_0\r\n",
      "    cython-0.24-py35_0\r\n",
      "    cytoolz-0.8.0-py35_0\r\n",
      "    dask-0.10.0-py35_0\r\n",
      "    datashape-0.5.2-py35_0\r\n",
      "    decorator-4.0.10-py35_0\r\n",
      "    dill-0.2.5-py35_0\r\n",
      "    docutils-0.12-py35_2\r\n",
      "    dynd-python-0.7.2-py35_0\r\n",
      "    entrypoints-0.2.2-py35_0\r\n",
      "    et_xmlfile-1.0.1-py35_0\r\n",
      "    fastcache-1.0.2-py35_1\r\n",
      "    flask-0.11.1-py35_0\r\n",
      "    flask-cors-2.1.2-py35_0\r\n",
      "    freetype-2.5.5-1\r\n",
      "    get_terminal_size-1.0.0-py35_0\r\n",
      "    gevent-1.1.1-py35_0\r\n",
      "    greenlet-0.4.10-py35_0\r\n",
      "    h5py-2.6.0-np111py35_1\r\n",
      "    hdf5-1.8.16-0\r\n",
      "    heapdict-1.0.0-py35_1\r\n",
      "    idna-2.1-py35_0\r\n",
      "    imagesize-0.7.1-py35_0\r\n",
      "    ipykernel-4.3.1-py35_0\r\n",
      "    ipython-4.2.0-py35_1\r\n",
      "    ipython_genutils-0.1.0-py35_0\r\n",
      "    ipywidgets-4.1.1-py35_0\r\n",
      "    itsdangerous-0.24-py35_0\r\n",
      "    jbig-2.1-0\r\n",
      "    jdcal-1.2-py35_1\r\n",
      "    jedi-0.9.0-py35_1\r\n",
      "    jinja2-2.8-py35_1\r\n",
      "    jpeg-8d-1\r\n",
      "    jsonschema-2.5.1-py35_0\r\n",
      "    jupyter-1.0.0-py35_3\r\n",
      "    jupyter_client-4.3.0-py35_0\r\n",
      "    jupyter_console-4.1.1-py35_0\r\n",
      "    jupyter_core-4.1.0-py35_0\r\n",
      "    libdynd-0.7.2-0\r\n",
      "    libpng-1.6.22-0\r\n",
      "    libtiff-4.0.6-2\r\n",
      "    libxml2-2.9.2-0\r\n",
      "    libxslt-1.1.28-2\r\n",
      "    llvmlite-0.11.0-py35_0\r\n",
      "    locket-0.2.0-py35_1\r\n",
      "    lxml-3.6.0-py35_0\r\n",
      "    markupsafe-0.23-py35_2\r\n",
      "    matplotlib-1.5.1-np111py35_0\r\n",
      "    mistune-0.7.2-py35_1\r\n",
      "    mkl-11.3.3-0\r\n",
      "    mkl-service-1.1.2-py35_2\r\n",
      "    mpmath-0.19-py35_1\r\n",
      "    multipledispatch-0.4.8-py35_0\r\n",
      "    nb_anacondacloud-1.1.0-py35_0\r\n",
      "    nb_conda-1.1.0-py35_0\r\n",
      "    nb_conda_kernels-1.0.3-py35_0\r\n",
      "    nbconvert-4.2.0-py35_0\r\n",
      "    nbformat-4.0.1-py35_0\r\n",
      "    nbpresent-3.0.2-py35_0\r\n",
      "    networkx-1.11-py35_0\r\n",
      "    nltk-3.2.1-py35_0\r\n",
      "    nose-1.3.7-py35_1\r\n",
      "    notebook-4.2.1-py35_0\r\n",
      "    numba-0.26.0-np111py35_0\r\n",
      "    numexpr-2.6.0-np111py35_0\r\n",
      "    numpy-1.11.0-py35_2\r\n",
      "    odo-0.5.0-py35_0\r\n",
      "    openpyxl-2.3.2-py35_0\r\n",
      "    openssl-1.0.2h-1\r\n",
      "    pandas-0.18.1-np111py35_0\r\n",
      "    partd-0.3.4-py35_0\r\n",
      "    path.py-8.2.1-py35_0\r\n",
      "    pathlib2-2.1.0-py35_0\r\n",
      "    patsy-0.4.1-py35_0\r\n",
      "    pep8-1.7.0-py35_0\r\n",
      "    pexpect-4.0.1-py35_0\r\n",
      "    pickleshare-0.7.2-py35_0\r\n",
      "    pillow-3.2.0-py35_1\r\n",
      "    pip-8.1.2-py35_0\r\n",
      "    ply-3.8-py35_0\r\n",
      "    psutil-4.3.0-py35_0\r\n",
      "    ptyprocess-0.5.1-py35_0\r\n",
      "    py-1.4.31-py35_0\r\n",
      "    pyasn1-0.1.9-py35_0\r\n",
      "    pycosat-0.6.1-py35_1\r\n",
      "    pycparser-2.14-py35_1\r\n",
      "    pycrypto-2.6.1-py35_4\r\n",
      "    pycurl-7.43.0-py35_0\r\n",
      "    pyflakes-1.2.3-py35_0\r\n",
      "    pygments-2.1.3-py35_0\r\n",
      "    pyopenssl-0.16.0-py35_0\r\n",
      "    pyparsing-2.1.4-py35_0\r\n",
      "    pyqt-4.11.4-py35_3\r\n",
      "    pytables-3.2.2-np111py35_4\r\n",
      "    pytest-2.9.2-py35_0\r\n",
      "    python-3.5.1-5\r\n",
      "    python-dateutil-2.5.3-py35_0\r\n",
      "    python.app-1.2-py35_4\r\n",
      "    pytz-2016.4-py35_0\r\n",
      "    pyyaml-3.11-py35_4\r\n",
      "    pyzmq-15.2.0-py35_1\r\n",
      "    qt-4.8.7-3\r\n",
      "    qtconsole-4.2.1-py35_0\r\n",
      "    qtpy-1.0.2-py35_0\r\n",
      "    readline-6.2-2\r\n",
      "    redis-3.2.0-0\r\n",
      "    redis-py-2.10.5-py35_0\r\n",
      "    requests-2.10.0-py35_0\r\n",
      "    rope-0.9.4-py35_1\r\n",
      "    ruamel_yaml-0.11.7-py35_0\r\n",
      "    scikit-image-0.12.3-np111py35_1\r\n",
      "    scikit-learn-0.17.1-np111py35_2\r\n",
      "    scipy-0.17.1-np111py35_1\r\n",
      "    setuptools-23.0.0-py35_0\r\n",
      "    simplegeneric-0.8.1-py35_1\r\n",
      "    singledispatch-3.4.0.3-py35_0\r\n",
      "    sip-4.16.9-py35_0\r\n",
      "    six-1.10.0-py35_0\r\n",
      "    snowballstemmer-1.2.1-py35_0\r\n",
      "    sockjs-tornado-1.0.3-py35_0\r\n",
      "    sphinx-1.4.1-py35_0\r\n",
      "    sphinx_rtd_theme-0.1.9-py35_0\r\n",
      "    spyder-2.3.9-py35_0\r\n",
      "    sqlalchemy-1.0.13-py35_0\r\n",
      "    sqlite-3.13.0-0\r\n",
      "    statsmodels-0.6.1-np111py35_1\r\n",
      "    sympy-1.0-py35_0\r\n",
      "    terminado-0.6-py35_0\r\n",
      "    tk-8.5.18-0\r\n",
      "    toolz-0.8.0-py35_0\r\n",
      "    tornado-4.3-py35_1\r\n",
      "    traitlets-4.2.1-py35_0\r\n",
      "    unicodecsv-0.14.1-py35_0\r\n",
      "    werkzeug-0.11.10-py35_0\r\n",
      "    wheel-0.29.0-py35_0\r\n",
      "    xlrd-1.0.0-py35_0\r\n",
      "    xlsxwriter-0.9.2-py35_0\r\n",
      "    xlwings-0.7.2-py35_0\r\n",
      "    xlwt-1.1.2-py35_0\r\n",
      "    xz-5.2.2-0\r\n",
      "    yaml-0.1.6-0\r\n",
      "    zlib-1.2.8-3\r\n",
      "\r\n"
     ]
    }
   ],
   "source": [
    "!conda list --revisions"
   ]
  },
  {
   "cell_type": "code",
   "execution_count": 12,
   "metadata": {
    "collapsed": false,
    "nbpresent": {
     "id": "6a568d86-c4ab-4f30-9949-a549e22bb4ec"
    }
   },
   "outputs": [
    {
     "name": "stdout",
     "output_type": "stream",
     "text": [
      "Fetching package metadata .......\n",
      "Solving package specifications: ..........\n",
      "\n",
      "# All requested packages already installed.\n",
      "# packages in environment at /Users/sechilds/miniconda3/envs/pydata_test:\n",
      "#\n",
      "pytest                    2.9.2                    py35_0  \n"
     ]
    }
   ],
   "source": [
    "!conda install pytest"
   ]
  },
  {
   "cell_type": "code",
   "execution_count": 13,
   "metadata": {
    "collapsed": false,
    "nbpresent": {
     "id": "2f424e60-417b-463b-b0db-b946f61f963f"
    }
   },
   "outputs": [
    {
     "name": "stdout",
     "output_type": "stream",
     "text": [
      "2016-02-18 06:51:07  (rev 0)\r\n",
      "    abstract-rendering-0.5.1-np110py35_0\r\n",
      "    alabaster-0.7.7-py35_0\r\n",
      "    anaconda-2.5.0-np110py35_0\r\n",
      "    anaconda-client-1.2.2-py35_0\r\n",
      "    appnope-0.1.0-py35_0\r\n",
      "    appscript-1.0.1-py35_0\r\n",
      "    argcomplete-1.0.0-py35_1\r\n",
      "    astropy-1.1.1-np110py35_0\r\n",
      "    babel-2.2.0-py35_0\r\n",
      "    beautifulsoup4-4.4.1-py35_0\r\n",
      "    bitarray-0.8.1-py35_0\r\n",
      "    blaze-core-0.9.0-py35_0\r\n",
      "    bokeh-0.11.0-py35_0\r\n",
      "    boto-2.39.0-py35_0\r\n",
      "    bottleneck-1.0.0-np110py35_0\r\n",
      "    cffi-1.2.1-py35_0\r\n",
      "    clyent-1.2.0-py35_0\r\n",
      "    colorama-0.3.6-py35_0\r\n",
      "    configobj-5.0.6-py35_0\r\n",
      "    cryptography-1.0.2-py35_0\r\n",
      "    curl-7.45.0-0\r\n",
      "    cycler-0.9.0-py35_0\r\n",
      "    cython-0.23.4-py35_1\r\n",
      "    cytoolz-0.7.5-py35_0\r\n",
      "    datashape-0.5.0-py35_0\r\n",
      "    decorator-4.0.6-py35_0\r\n",
      "    docutils-0.12-py35_0\r\n",
      "    dynd-python-0.7.1-py35_0\r\n",
      "    et_xmlfile-1.0.1-py35_0\r\n",
      "    fastcache-1.0.2-py35_0\r\n",
      "    flask-0.10.1-py35_1\r\n",
      "    freetype-2.5.5-0\r\n",
      "    futures-3.0.3-py35_0\r\n",
      "    greenlet-0.4.9-py35_0\r\n",
      "    h5py-2.5.0-np110py35_4\r\n",
      "    hdf5-1.8.15.1-2\r\n",
      "    idna-2.0-py35_0\r\n",
      "    ipykernel-4.2.2-py35_0\r\n",
      "    ipython-4.0.3-py35_0\r\n",
      "    ipython-notebook-4.0.4-py35_0\r\n",
      "    ipython-qtconsole-4.0.1-py35_0\r\n",
      "    ipython_genutils-0.1.0-py35_0\r\n",
      "    ipywidgets-4.1.1-py35_0\r\n",
      "    itsdangerous-0.24-py35_0\r\n",
      "    jbig-2.1-0\r\n",
      "    jdcal-1.2-py35_0\r\n",
      "    jedi-0.9.0-py35_0\r\n",
      "    jinja2-2.8-py35_0\r\n",
      "    jpeg-8d-1\r\n",
      "    jsonschema-2.4.0-py35_0\r\n",
      "    jupyter-1.0.0-py35_1\r\n",
      "    jupyter_client-4.1.1-py35_0\r\n",
      "    jupyter_console-4.1.0-py35_0\r\n",
      "    jupyter_core-4.0.6-py35_0\r\n",
      "    launcher-1.0.0-3\r\n",
      "    libdynd-0.7.1-0\r\n",
      "    libpng-1.6.17-0\r\n",
      "    libtiff-4.0.6-1\r\n",
      "    libxml2-2.9.2-0\r\n",
      "    libxslt-1.1.28-2\r\n",
      "    llvmlite-0.8.0-py35_0\r\n",
      "    lxml-3.5.0-py35_0\r\n",
      "    markupsafe-0.23-py35_0\r\n",
      "    matplotlib-1.5.1-np110py35_0\r\n",
      "    mistune-0.7.1-py35_0\r\n",
      "    mkl-11.3.1-0\r\n",
      "    mkl-service-1.1.2-py35_0\r\n",
      "    multipledispatch-0.4.8-py35_0\r\n",
      "    nbconvert-4.1.0-py35_0\r\n",
      "    nbformat-4.0.1-py35_0\r\n",
      "    networkx-1.11-py35_0\r\n",
      "    nltk-3.1-py35_0\r\n",
      "    node-webkit-0.10.1-0\r\n",
      "    nose-1.3.7-py35_0\r\n",
      "    notebook-4.1.0-py35_0\r\n",
      "    numba-0.23.1-np110py35_0\r\n",
      "    numexpr-2.4.6-np110py35_1\r\n",
      "    numpy-1.10.4-py35_0\r\n",
      "    odo-0.4.0-py35_0\r\n",
      "    openpyxl-2.3.2-py35_0\r\n",
      "    openssl-1.0.2f-0\r\n",
      "    pandas-0.17.1-np110py35_0\r\n",
      "    path.py-8.1.2-py35_1\r\n",
      "    patsy-0.4.0-np110py35_0\r\n",
      "    pep8-1.7.0-py35_0\r\n",
      "    pexpect-3.3-py35_0\r\n",
      "    pickleshare-0.5-py35_0\r\n",
      "    pillow-3.1.0-py35_0\r\n",
      "    pip-8.0.2-py35_0\r\n",
      "    ply-3.8-py35_0\r\n",
      "    psutil-3.4.2-py35_0\r\n",
      "    ptyprocess-0.5-py35_0\r\n",
      "    py-1.4.31-py35_0\r\n",
      "    pyasn1-0.1.9-py35_0\r\n",
      "    pycosat-0.6.1-py35_0\r\n",
      "    pycparser-2.14-py35_0\r\n",
      "    pycrypto-2.6.1-py35_0\r\n",
      "    pycurl-7.19.5.3-py35_0\r\n",
      "    pyflakes-1.0.0-py35_0\r\n",
      "    pygments-2.1-py35_0\r\n",
      "    pyopenssl-0.15.1-py35_1\r\n",
      "    pyparsing-2.0.3-py35_0\r\n",
      "    pyqt-4.11.4-py35_1\r\n",
      "    pytables-3.2.2-np110py35_0\r\n",
      "    pytest-2.8.5-py35_0\r\n",
      "    python-3.5.1-0\r\n",
      "    python-dateutil-2.4.2-py35_0\r\n",
      "    python.app-1.2-py35_4\r\n",
      "    pytz-2015.7-py35_0\r\n",
      "    pyyaml-3.11-py35_1\r\n",
      "    pyzmq-15.2.0-py35_0\r\n",
      "    qt-4.8.7-1\r\n",
      "    qtconsole-4.1.1-py35_0\r\n",
      "    readline-6.2-2\r\n",
      "    redis-2.6.9-0\r\n",
      "    redis-py-2.10.3-py35_0\r\n",
      "    requests-2.9.1-py35_0\r\n",
      "    rope-0.9.4-py35_1\r\n",
      "    scikit-image-0.11.3-np110py35_0\r\n",
      "    scikit-learn-0.17-np110py35_2\r\n",
      "    scipy-0.17.0-np110py35_0\r\n",
      "    setuptools-19.6.2-py35_0\r\n",
      "    simplegeneric-0.8.1-py35_0\r\n",
      "    sip-4.16.9-py35_0\r\n",
      "    six-1.10.0-py35_0\r\n",
      "    snowballstemmer-1.2.1-py35_0\r\n",
      "    sockjs-tornado-1.0.1-py35_0\r\n",
      "    sphinx-1.3.5-py35_0\r\n",
      "    sphinx_rtd_theme-0.1.9-py35_0\r\n",
      "    spyder-2.3.8-py35_0\r\n",
      "    spyder-app-2.3.8-py35_0\r\n",
      "    sqlalchemy-1.0.11-py35_0\r\n",
      "    sqlite-3.9.2-0\r\n",
      "    statsmodels-0.6.1-np110py35_0\r\n",
      "    sympy-0.7.6.1-py35_0\r\n",
      "    terminado-0.5-py35_1\r\n",
      "    tk-8.5.18-0\r\n",
      "    toolz-0.7.4-py35_0\r\n",
      "    tornado-4.3-py35_0\r\n",
      "    traitlets-4.1.0-py35_0\r\n",
      "    unicodecsv-0.14.1-py35_0\r\n",
      "    werkzeug-0.11.3-py35_0\r\n",
      "    wheel-0.26.0-py35_1\r\n",
      "    xlrd-0.9.4-py35_0\r\n",
      "    xlsxwriter-0.8.4-py35_0\r\n",
      "    xlwings-0.6.4-py35_0\r\n",
      "    xlwt-1.0.0-py35_0\r\n",
      "    xz-5.0.5-0\r\n",
      "    yaml-0.1.6-0\r\n",
      "    zeromq-4.1.3-0\r\n",
      "    zlib-1.2.8-0\r\n",
      "\r\n",
      "2016-02-18 22:23:43  (rev 1)\r\n",
      "     wheel  {0.26.0 -> 0.29.0}\r\n",
      "     xz  {5.0.5 -> 5.0.5}\r\n",
      "    +textblob-0.11.0\r\n",
      "\r\n",
      "2016-04-02 09:01:40  (rev 2)\r\n",
      "    +pandas-datareader-0.2.0\r\n",
      "\r\n",
      "2016-04-02 19:21:25  (rev 3)\r\n",
      "    +seaborn-0.7.0\r\n",
      "\r\n",
      "2016-06-28 18:53:00  (rev 4)\r\n",
      "     pytest  {2.8.5 -> 2.9.2}\r\n",
      "     python  {3.5.1 -> 3.5.1}\r\n",
      "     sqlite  {3.9.2 -> 3.13.0}\r\n",
      "     xz  {5.0.5 -> 5.2.2}\r\n",
      "\r\n"
     ]
    }
   ],
   "source": [
    "!conda list -r -n dhcarpentry"
   ]
  },
  {
   "cell_type": "markdown",
   "metadata": {
    "collapsed": true
   },
   "source": [
    "You always have a record of how each environment was built. You don't need to keep track yourself."
   ]
  },
  {
   "cell_type": "markdown",
   "metadata": {},
   "source": [
    "#### `environment.yml` files"
   ]
  },
  {
   "cell_type": "markdown",
   "metadata": {},
   "source": [
    "Part of `pip`'s functionality is `requirements.txt` files - which are a list of python packages required by the current project. The `pip freeze` command will generate a list of the currently installed packages (through `pip`) for you - with their version numbers. You don't have to specify the exact version.\n",
    "\n",
    "When you use the `pip` bundled with `conda`, you get a list of **ALL** the packages installed."
   ]
  },
  {
   "cell_type": "code",
   "execution_count": 14,
   "metadata": {
    "collapsed": false
   },
   "outputs": [
    {
     "name": "stdout",
     "output_type": "stream",
     "text": [
      "alabaster==0.7.8\r\n",
      "anaconda-client==1.4.0\r\n",
      "anaconda-navigator==1.2.1\r\n",
      "appnope==0.1.0\r\n",
      "appscript==1.0.1\r\n",
      "argcomplete==1.0.0\r\n",
      "astropy==1.2.1\r\n",
      "Babel==2.3.3\r\n",
      "backports.shutil-get-terminal-size==1.0.0\r\n",
      "beautifulsoup4==4.4.1\r\n",
      "bitarray==0.8.1\r\n",
      "bokeh==0.11.1\r\n",
      "boto==2.40.0\r\n",
      "Bottleneck==1.0.0\r\n",
      "cffi==1.6.0\r\n",
      "chest==0.2.3\r\n",
      "click==6.6\r\n",
      "cloudpickle==0.2.1\r\n",
      "clyent==1.2.2\r\n",
      "colorama==0.3.7\r\n",
      "configobj==5.0.6\r\n",
      "contextlib2==0.5.3\r\n",
      "cryptography==1.4\r\n",
      "cycler==0.10.0\r\n",
      "Cython==0.24\r\n",
      "cytoolz==0.8.0\r\n",
      "dask==0.10.0\r\n",
      "datashape==0.5.2\r\n",
      "decorator==4.0.10\r\n",
      "dill==0.2.5\r\n",
      "docutils==0.12\r\n",
      "dynd==0.7.3.dev1\r\n",
      "et-xmlfile==1.0.1\r\n",
      "fastcache==1.0.2\r\n",
      "Flask==0.11.1\r\n",
      "Flask-Cors==2.1.2\r\n",
      "gevent==1.1.1\r\n",
      "greenlet==0.4.10\r\n",
      "h5py==2.6.0\r\n",
      "HeapDict==1.0.0\r\n",
      "idna==2.1\r\n",
      "imagesize==0.7.1\r\n",
      "ipykernel==4.3.1\r\n",
      "ipython==4.2.0\r\n",
      "ipython-genutils==0.1.0\r\n",
      "ipywidgets==4.1.1\r\n",
      "itsdangerous==0.24\r\n",
      "jdcal==1.2\r\n",
      "jedi==0.9.0\r\n",
      "Jinja2==2.8\r\n",
      "jsonschema==2.5.1\r\n",
      "jupyter==1.0.0\r\n",
      "jupyter-client==4.3.0\r\n",
      "jupyter-console==4.1.1\r\n",
      "jupyter-core==4.1.0\r\n",
      "llvmlite==0.11.0\r\n",
      "locket==0.2.0\r\n",
      "lxml==3.6.0\r\n",
      "MarkupSafe==0.23\r\n",
      "matplotlib==1.5.1\r\n",
      "mistune==0.7.2\r\n",
      "mpmath==0.19\r\n",
      "multipledispatch==0.4.8\r\n",
      "nb-anacondacloud==1.1.0\r\n",
      "nb-conda==1.1.0\r\n",
      "nb-conda-kernels==1.0.3\r\n",
      "nbconvert==4.2.0\r\n",
      "nbformat==4.0.1\r\n",
      "nbpresent==3.0.2\r\n",
      "networkx==1.11\r\n",
      "nltk==3.2.1\r\n",
      "nose==1.3.7\r\n",
      "notebook==4.2.1\r\n",
      "numba==0.26.0\r\n",
      "numexpr==2.6.0\r\n",
      "numpy==1.11.0\r\n",
      "odo==0.5.0\r\n",
      "openpyxl==2.3.2\r\n",
      "pandas==0.18.1\r\n",
      "partd==0.3.4\r\n",
      "path.py==0.0.0\r\n",
      "pathlib2==2.1.0\r\n",
      "patsy==0.4.1\r\n",
      "pep8==1.7.0\r\n",
      "pexpect==4.0.1\r\n",
      "pickleshare==0.7.2\r\n",
      "Pillow==3.2.0\r\n",
      "ply==3.8\r\n",
      "psutil==4.3.0\r\n",
      "ptyprocess==0.5.1\r\n",
      "py==1.4.31\r\n",
      "pyasn1==0.1.9\r\n",
      "pycosat==0.6.1\r\n",
      "pycparser==2.14\r\n",
      "pycrypto==2.6.1\r\n",
      "pycurl==7.43.0\r\n",
      "pyflakes==1.2.3\r\n",
      "Pygments==2.1.3\r\n",
      "pyOpenSSL==16.0.0\r\n",
      "pyparsing==2.1.4\r\n",
      "pytest==2.9.2\r\n",
      "python-dateutil==2.5.3\r\n",
      "pytz==2016.4\r\n",
      "PyYAML==3.11\r\n",
      "pyzmq==15.2.0\r\n",
      "qtconsole==4.2.1\r\n",
      "QtPy==1.0.2\r\n",
      "redis==2.10.5\r\n",
      "requests==2.10.0\r\n",
      "rope-py3k==0.9.4.post1\r\n",
      "ruamel-yaml===-VERSION\r\n",
      "scikit-image==0.12.3\r\n",
      "scikit-learn==0.17.1\r\n",
      "scipy==0.17.1\r\n",
      "simplegeneric==0.8.1\r\n",
      "singledispatch==3.4.0.3\r\n",
      "six==1.10.0\r\n",
      "snowballstemmer==1.2.1\r\n",
      "sockjs-tornado==1.0.3\r\n",
      "Sphinx==1.4.1\r\n",
      "sphinx-rtd-theme==0.1.9\r\n",
      "spyder==2.3.9\r\n",
      "SQLAlchemy==1.0.13\r\n",
      "statsmodels==0.6.1\r\n",
      "sympy==1.0\r\n",
      "tables==3.2.2\r\n",
      "terminado==0.6\r\n",
      "toolz==0.8.0\r\n",
      "tornado==4.3\r\n",
      "traitlets==4.2.1\r\n",
      "unicodecsv==0.14.1\r\n",
      "Werkzeug==0.11.10\r\n",
      "xlrd==1.0.0\r\n",
      "XlsxWriter==0.9.2\r\n",
      "xlwings==0.7.2\r\n",
      "xlwt==1.1.2\r\n"
     ]
    }
   ],
   "source": [
    "!pip freeze"
   ]
  },
  {
   "cell_type": "markdown",
   "metadata": {},
   "source": [
    "In `conda` there is a similar concept, the `environment.yml` file. These files use the \"Yet Another Markup Language\" (YAML) format. See [http://yaml.org/](http://yaml.org/)."
   ]
  },
  {
   "cell_type": "markdown",
   "metadata": {},
   "source": [
    "An `environment.yml` file looks like:\n",
    "\n",
    "    name: test-env\n",
    "    dependencies:\n",
    "    - python=3\n",
    "    - numpy\n",
    "    - pandas\n",
    "    - pip\n",
    "        - selenium"
   ]
  },
  {
   "cell_type": "code",
   "execution_count": 15,
   "metadata": {
    "collapsed": false
   },
   "outputs": [
    {
     "name": "stdout",
     "output_type": "stream",
     "text": [
      "name: dhcarpentry\r\n",
      "dependencies:\r\n",
      "- abstract-rendering=0.5.1=np110py35_0\r\n",
      "- alabaster=0.7.7=py35_0\r\n",
      "- anaconda=2.5.0=np110py35_0\r\n",
      "- anaconda-client=1.2.2=py35_0\r\n",
      "- appnope=0.1.0=py35_0\r\n",
      "- appscript=1.0.1=py35_0\r\n",
      "- argcomplete=1.0.0=py35_1\r\n",
      "- astropy=1.1.1=np110py35_0\r\n",
      "- babel=2.2.0=py35_0\r\n",
      "- beautifulsoup4=4.4.1=py35_0\r\n",
      "- bitarray=0.8.1=py35_0\r\n",
      "- blaze-core=0.9.0=py35_0\r\n",
      "- bokeh=0.11.0=py35_0\r\n",
      "- boto=2.39.0=py35_0\r\n",
      "- bottleneck=1.0.0=np110py35_0\r\n",
      "- cffi=1.2.1=py35_0\r\n",
      "- clyent=1.2.0=py35_0\r\n",
      "- colorama=0.3.6=py35_0\r\n",
      "- configobj=5.0.6=py35_0\r\n",
      "- cryptography=1.0.2=py35_0\r\n",
      "- curl=7.45.0=0\r\n",
      "- cycler=0.9.0=py35_0\r\n",
      "- cython=0.23.4=py35_1\r\n",
      "- cytoolz=0.7.5=py35_0\r\n",
      "- datashape=0.5.0=py35_0\r\n",
      "- decorator=4.0.6=py35_0\r\n",
      "- docutils=0.12=py35_0\r\n",
      "- dynd-python=0.7.1=py35_0\r\n",
      "- et_xmlfile=1.0.1=py35_0\r\n",
      "- fastcache=1.0.2=py35_0\r\n",
      "- flask=0.10.1=py35_1\r\n",
      "- freetype=2.5.5=0\r\n",
      "- futures=3.0.3=py35_0\r\n",
      "- greenlet=0.4.9=py35_0\r\n",
      "- h5py=2.5.0=np110py35_4\r\n",
      "- hdf5=1.8.15.1=2\r\n",
      "- idna=2.0=py35_0\r\n",
      "- ipykernel=4.2.2=py35_0\r\n",
      "- ipython=4.0.3=py35_0\r\n",
      "- ipython-notebook=4.0.4=py35_0\r\n",
      "- ipython-qtconsole=4.0.1=py35_0\r\n",
      "- ipython_genutils=0.1.0=py35_0\r\n",
      "- ipywidgets=4.1.1=py35_0\r\n",
      "- itsdangerous=0.24=py35_0\r\n",
      "- jbig=2.1=0\r\n",
      "- jdcal=1.2=py35_0\r\n",
      "- jedi=0.9.0=py35_0\r\n",
      "- jinja2=2.8=py35_0\r\n",
      "- jpeg=8d=1\r\n",
      "- jsonschema=2.4.0=py35_0\r\n",
      "- jupyter=1.0.0=py35_1\r\n",
      "- jupyter_client=4.1.1=py35_0\r\n",
      "- jupyter_console=4.1.0=py35_0\r\n",
      "- jupyter_core=4.0.6=py35_0\r\n",
      "- launcher=1.0.0=3\r\n",
      "- libdynd=0.7.1=0\r\n",
      "- libpng=1.6.17=0\r\n",
      "- libtiff=4.0.6=1\r\n",
      "- libxml2=2.9.2=0\r\n",
      "- libxslt=1.1.28=2\r\n",
      "- llvmlite=0.8.0=py35_0\r\n",
      "- lxml=3.5.0=py35_0\r\n",
      "- markupsafe=0.23=py35_0\r\n",
      "- matplotlib=1.5.1=np110py35_0\r\n",
      "- mistune=0.7.1=py35_0\r\n",
      "- mkl=11.3.1=0\r\n",
      "- mkl-service=1.1.2=py35_0\r\n",
      "- multipledispatch=0.4.8=py35_0\r\n",
      "- nbconvert=4.1.0=py35_0\r\n",
      "- nbformat=4.0.1=py35_0\r\n",
      "- networkx=1.11=py35_0\r\n",
      "- nltk=3.1=py35_0\r\n",
      "- node-webkit=0.10.1=0\r\n",
      "- nose=1.3.7=py35_0\r\n",
      "- notebook=4.1.0=py35_0\r\n",
      "- numba=0.23.1=np110py35_0\r\n",
      "- numexpr=2.4.6=np110py35_1\r\n",
      "- numpy=1.10.4=py35_0\r\n",
      "- odo=0.4.0=py35_0\r\n",
      "- openpyxl=2.3.2=py35_0\r\n",
      "- openssl=1.0.2f=0\r\n",
      "- pandas=0.17.1=np110py35_0\r\n",
      "- pandas-datareader=0.2.0=py35_0\r\n",
      "- path.py=8.1.2=py35_1\r\n",
      "- patsy=0.4.0=np110py35_0\r\n",
      "- pep8=1.7.0=py35_0\r\n",
      "- pexpect=3.3=py35_0\r\n",
      "- pickleshare=0.5=py35_0\r\n",
      "- pillow=3.1.0=py35_0\r\n",
      "- pip=8.0.2=py35_0\r\n",
      "- ply=3.8=py35_0\r\n",
      "- psutil=3.4.2=py35_0\r\n",
      "- ptyprocess=0.5=py35_0\r\n",
      "- py=1.4.31=py35_0\r\n",
      "- pyasn1=0.1.9=py35_0\r\n",
      "- pycosat=0.6.1=py35_0\r\n",
      "- pycparser=2.14=py35_0\r\n",
      "- pycrypto=2.6.1=py35_0\r\n",
      "- pycurl=7.19.5.3=py35_0\r\n",
      "- pyflakes=1.0.0=py35_0\r\n",
      "- pygments=2.1=py35_0\r\n",
      "- pyopenssl=0.15.1=py35_1\r\n",
      "- pyparsing=2.0.3=py35_0\r\n",
      "- pyqt=4.11.4=py35_1\r\n",
      "- pytables=3.2.2=np110py35_0\r\n",
      "- pytest=2.9.2=py35_0\r\n",
      "- python=3.5.1=5\r\n",
      "- python-dateutil=2.4.2=py35_0\r\n",
      "- python.app=1.2=py35_4\r\n",
      "- pytz=2015.7=py35_0\r\n",
      "- pyyaml=3.11=py35_1\r\n",
      "- pyzmq=15.2.0=py35_0\r\n",
      "- qt=4.8.7=1\r\n",
      "- qtconsole=4.1.1=py35_0\r\n",
      "- readline=6.2=2\r\n",
      "- redis=2.6.9=0\r\n",
      "- redis-py=2.10.3=py35_0\r\n",
      "- requests=2.9.1=py35_0\r\n",
      "- rope=0.9.4=py35_1\r\n",
      "- scikit-image=0.11.3=np110py35_0\r\n",
      "- scikit-learn=0.17=np110py35_2\r\n",
      "- scipy=0.17.0=np110py35_0\r\n",
      "- seaborn=0.7.0=py35_0\r\n",
      "- setuptools=19.6.2=py35_0\r\n",
      "- simplegeneric=0.8.1=py35_0\r\n",
      "- sip=4.16.9=py35_0\r\n",
      "- six=1.10.0=py35_0\r\n",
      "- sloria::textblob=0.11.0=py35_0\r\n",
      "- snowballstemmer=1.2.1=py35_0\r\n",
      "- sockjs-tornado=1.0.1=py35_0\r\n",
      "- sphinx=1.3.5=py35_0\r\n",
      "- sphinx_rtd_theme=0.1.9=py35_0\r\n",
      "- spyder=2.3.8=py35_0\r\n",
      "- spyder-app=2.3.8=py35_0\r\n",
      "- sqlalchemy=1.0.11=py35_0\r\n",
      "- sqlite=3.13.0=0\r\n",
      "- statsmodels=0.6.1=np110py35_0\r\n",
      "- sympy=0.7.6.1=py35_0\r\n",
      "- terminado=0.5=py35_1\r\n",
      "- tk=8.5.18=0\r\n",
      "- toolz=0.7.4=py35_0\r\n",
      "- tornado=4.3=py35_0\r\n",
      "- traitlets=4.1.0=py35_0\r\n",
      "- unicodecsv=0.14.1=py35_0\r\n",
      "- werkzeug=0.11.3=py35_0\r\n",
      "- wheel=0.29.0=py35_0\r\n",
      "- xlrd=0.9.4=py35_0\r\n",
      "- xlsxwriter=0.8.4=py35_0\r\n",
      "- xlwings=0.6.4=py35_0\r\n",
      "- xlwt=1.0.0=py35_0\r\n",
      "- xz=5.2.2=0\r\n",
      "- yaml=0.1.6=0\r\n",
      "- zeromq=4.1.3=0\r\n",
      "- zlib=1.2.8=0\r\n",
      "- pip:\r\n",
      "  - blaze==0.9.0\r\n",
      "  - cssselect==0.9.1\r\n",
      "  - dynd==f641248\r\n",
      "  - et-xmlfile==1.0.1\r\n",
      "  - fake-factory==0.5.7\r\n",
      "  - howdoi==1.1.9\r\n",
      "  - ipython-genutils==0.1.0\r\n",
      "  - jupyter-client==4.1.1\r\n",
      "  - jupyter-console==4.1.0\r\n",
      "  - jupyter-core==4.0.6\r\n",
      "  - plotly==1.9.10\r\n",
      "  - pyquery==1.2.13\r",
      "\r\n",
      "  - requests-cache==0.4.12\r\n",
      "  - rope-py3k==0.9.4.post1\r\n",
      "  - selenium==2.53.5\r\n",
      "  - sphinx-rtd-theme==0.1.9\r\n",
      "  - swapi==0.1.3\r\n",
      "  - tables==3.2.2\r\n",
      "  - textblob==0.11.0\r\n",
      "  - tqdm==4.7.4\r\n",
      "  - ujson==1.33\r\n",
      "prefix: /Users/sechilds/miniconda3/envs/dhcarpentry\r\n",
      "\r\n"
     ]
    }
   ],
   "source": [
    "!conda env export -n dhcarpentry"
   ]
  },
  {
   "cell_type": "markdown",
   "metadata": {},
   "source": [
    "You should create the `environment.yml` file by hand."
   ]
  },
  {
   "cell_type": "markdown",
   "metadata": {},
   "source": [
    "There is a nice script that will let you change to a different conda environment every time you enter a project directory.\n",
    "\n",
    "[https://github.com/chdoig/conda-auto-env](https://github.com/chdoig/conda-auto-env)"
   ]
  },
  {
   "cell_type": "code",
   "execution_count": 17,
   "metadata": {
    "collapsed": false
   },
   "outputs": [],
   "source": [
    "%%bash\n",
    "function conda_auto_env() {\n",
    "  if [ -e \"environment.yml\" ]; then\n",
    "    # echo \"environment.yml file found\"\n",
    "    ENV=$(head -n 1 environment.yml | cut -f2 -d ' ')\n",
    "    # Check if you are already in the environment\n",
    "    if [[ $PATH != *$ENV* ]]; then\n",
    "      # Check if the environment exists\n",
    "      source activate $ENV\n",
    "      if [ $? -eq 0 ]; then\n",
    "        :\n",
    "      else\n",
    "        # Create the environment and activate\n",
    "        echo \"Conda env '$ENV' doesn't exist.\"\n",
    "        conda env create -q\n",
    "        source activate $ENV\n",
    "      fi\n",
    "    fi\n",
    "  fi\n",
    "}"
   ]
  },
  {
   "cell_type": "markdown",
   "metadata": {},
   "source": [
    "Then you need to add that function to your `PROMPT_COMMAND` environment variable, so it is executed every time you display your `bash` prompt.\n",
    "\n",
    "    export PROMPT_COMMAND=conda_auto_env"
   ]
  },
  {
   "cell_type": "markdown",
   "metadata": {},
   "source": [
    "Environments (and virtualenvs) work by manipulating the way Python and/or your shell find programs. Ultimately, it boils down to a list of locations to check -- in order -- for a particular python module or command line program. By manipulating this list, you can change which particular version or set of programs are found."
   ]
  },
  {
   "cell_type": "markdown",
   "metadata": {},
   "source": [
    "One key part of this is that you can change these paths for one particular shell (e.g. terminal window), but it does not change that for any other one."
   ]
  },
  {
   "cell_type": "markdown",
   "metadata": {},
   "source": [
    "You can look at the path that python uses using `sys.path`:"
   ]
  },
  {
   "cell_type": "code",
   "execution_count": 19,
   "metadata": {
    "collapsed": false
   },
   "outputs": [
    {
     "name": "stdout",
     "output_type": "stream",
     "text": [
      "\n",
      "/Users/sechilds/miniconda3/envs/pydata_test/lib/python35.zip\n",
      "/Users/sechilds/miniconda3/envs/pydata_test/lib/python3.5\n",
      "/Users/sechilds/miniconda3/envs/pydata_test/lib/python3.5/plat-darwin\n",
      "/Users/sechilds/miniconda3/envs/pydata_test/lib/python3.5/lib-dynload\n",
      "/Users/sechilds/miniconda3/envs/pydata_test/lib/python3.5/site-packages\n",
      "/Users/sechilds/miniconda3/envs/pydata_test/lib/python3.5/site-packages/Sphinx-1.4.1-py3.5.egg\n",
      "/Users/sechilds/miniconda3/envs/pydata_test/lib/python3.5/site-packages/aeosa\n",
      "/Users/sechilds/miniconda3/envs/pydata_test/lib/python3.5/site-packages/setuptools-23.0.0-py3.5.egg\n",
      "/Users/sechilds/miniconda3/envs/pydata_test/lib/python3.5/site-packages/IPython/extensions\n",
      "/Users/sechilds/.ipython\n"
     ]
    }
   ],
   "source": [
    "import sys\n",
    "print('\\n'.join(sys.path))"
   ]
  },
  {
   "cell_type": "markdown",
   "metadata": {},
   "source": [
    "A similar concept exists for your shell. The `$PATH` environment variable."
   ]
  },
  {
   "cell_type": "code",
   "execution_count": 25,
   "metadata": {
    "collapsed": false
   },
   "outputs": [
    {
     "name": "stdout",
     "output_type": "stream",
     "text": [
      "/Users/sechilds/miniconda3/envs/pydata_test/bin\n",
      "/Users/sechilds/miniconda3/bin\n",
      "/usr/local/var/rbenv/shims\n",
      "/usr/local/heroku/bin\n",
      "/usr/local/bin\n",
      "/usr/local/sbin\n",
      "/usr/bin\n",
      "/bin\n",
      "/usr/sbin\n",
      "/sbin\n",
      "/opt/X11/bin\n",
      "/Users/sechilds/.bin\n",
      "/Users/sechilds/bin\n",
      "/Users/sechilds/.tcscripts\n",
      "/usr/local/stata\n",
      "/usr/texbin\n",
      "/usr/local/share/npm/bin\n",
      "/usr/local/opt/ruby/bin\n",
      "/Users/sechilds/gocode//bin\n",
      "/Users/sechilds/bin\n",
      "/usr/local/stata\n"
     ]
    }
   ],
   "source": [
    "import os\n",
    "print('\\n'.join(os.environ['PATH'].split(':')))"
   ]
  },
  {
   "cell_type": "markdown",
   "metadata": {},
   "source": [
    "The first line of the `$PATH` is why switching to a conda environment changes what your command line does. It also allows you to make your environment's command line scripts accessible from your shell."
   ]
  },
  {
   "cell_type": "markdown",
   "metadata": {},
   "source": [
    "When you ask python to find a module or when you ask bash to find a program to run, they simply search through their lists until they find it. Once they find it, they use it and stop looking."
   ]
  },
  {
   "cell_type": "markdown",
   "metadata": {},
   "source": [
    "### Developing Your Own Packages"
   ]
  },
  {
   "cell_type": "markdown",
   "metadata": {
    "collapsed": true
   },
   "source": [
    "I promised you that this was going to be about creating your own packages and organizing your code. Python is setup so it will look in the current directory for `.py` files, which are called _modules_. This is useful for moving your code from a notebook to a file, but it's limiting because it makes you put everything in one directory."
   ]
  },
  {
   "cell_type": "markdown",
   "metadata": {
    "collapsed": true
   },
   "source": [
    "It would be easier to put things in various sub-directories, organized by the part of the project you are working on. But that makes it hard to import those files into your notebooks."
   ]
  },
  {
   "cell_type": "markdown",
   "metadata": {},
   "source": [
    "I have a workflow where I test things out using Jupyter notebooks. If I'm using an unfamilar package or a new dataset, I can quickly run the commands and have the results appear instantly."
   ]
  },
  {
   "cell_type": "markdown",
   "metadata": {},
   "source": [
    "But first I find myself running the same commands over and over again, so I create a function. If it's a useful function, I end up wanting in in several notebooks. I can copy it from one to another, but then I could end up with several versions of it."
   ]
  },
  {
   "cell_type": "markdown",
   "metadata": {},
   "source": [
    "The solution is to put it in a separate file and import that into the notebook. But if you get enough of those functions, you are well on your way to having a package."
   ]
  },
  {
   "cell_type": "markdown",
   "metadata": {},
   "source": [
    "So, if I want to store my `.py` files separately from my notebooks, it's not particularly easy. While you can use **relative imports** to--say--import something from a parent directory, it's still a bit awkward."
   ]
  },
  {
   "cell_type": "markdown",
   "metadata": {},
   "source": [
    "The solution is what's known as installing a package in \"development mode\"."
   ]
  },
  {
   "cell_type": "markdown",
   "metadata": {},
   "source": [
    "#### The Tools: `conda develop` and `pip install -e`"
   ]
  },
  {
   "cell_type": "markdown",
   "metadata": {},
   "source": [
    "Since we are using `conda`, we should start out with the easiest way. The `conda-build` package includes the `conda develop` tool that will be the easiest place to start since it doesn't require much setup of your code.\n",
    "\n",
    "The `pip` version requires a little more setup, but it's fully compatible with conda."
   ]
  },
  {
   "cell_type": "markdown",
   "metadata": {},
   "source": [
    "#### The magic `__init__.py` file"
   ]
  },
  {
   "cell_type": "markdown",
   "metadata": {},
   "source": [
    "Python uses a simple method for making an ordinary directory into a module. If you include an `__init__.py` file in the directory, python will treat it as a module. This means that you can `import` it."
   ]
  },
  {
   "cell_type": "markdown",
   "metadata": {},
   "source": [
    "The `__init__.py` can be empty, it's mere presence is enough to make it work."
   ]
  },
  {
   "cell_type": "code",
   "execution_count": null,
   "metadata": {
    "collapsed": true
   },
   "outputs": [],
   "source": []
  },
  {
   "cell_type": "code",
   "execution_count": null,
   "metadata": {
    "collapsed": true
   },
   "outputs": [],
   "source": []
  },
  {
   "cell_type": "code",
   "execution_count": null,
   "metadata": {
    "collapsed": true
   },
   "outputs": [],
   "source": []
  },
  {
   "cell_type": "code",
   "execution_count": null,
   "metadata": {
    "collapsed": true
   },
   "outputs": [],
   "source": []
  },
  {
   "cell_type": "code",
   "execution_count": null,
   "metadata": {
    "collapsed": true
   },
   "outputs": [],
   "source": []
  },
  {
   "cell_type": "code",
   "execution_count": null,
   "metadata": {
    "collapsed": true
   },
   "outputs": [],
   "source": []
  },
  {
   "cell_type": "code",
   "execution_count": null,
   "metadata": {
    "collapsed": true
   },
   "outputs": [],
   "source": []
  },
  {
   "cell_type": "code",
   "execution_count": null,
   "metadata": {
    "collapsed": true
   },
   "outputs": [],
   "source": []
  },
  {
   "cell_type": "code",
   "execution_count": null,
   "metadata": {
    "collapsed": true
   },
   "outputs": [],
   "source": []
  }
 ],
 "metadata": {
  "anaconda-cloud": {},
  "kernelspec": {
   "display_name": "Python [pydata_test]",
   "language": "python",
   "name": "Python [pydata_test]"
  },
  "language_info": {
   "codemirror_mode": {
    "name": "ipython",
    "version": 3
   },
   "file_extension": ".py",
   "mimetype": "text/x-python",
   "name": "python",
   "nbconvert_exporter": "python",
   "pygments_lexer": "ipython3",
   "version": "3.5.1"
  },
  "nbpresent": {
   "slides": {
    "0556a1dc-01b1-4313-ba94-f185a406340e": {
     "id": "0556a1dc-01b1-4313-ba94-f185a406340e",
     "prev": "a2cb4e1d-df16-4944-aa8d-8ed4d5f9a993",
     "regions": {
      "d9c1eb70-0c84-4e6e-927e-34fcf631b743": {
       "attrs": {
        "height": 1,
        "width": 1,
        "x": 0,
        "y": 0
       },
       "id": "d9c1eb70-0c84-4e6e-927e-34fcf631b743"
      }
     }
    },
    "070b6220-2d2c-4298-aed7-13cf91a911d9": {
     "id": "070b6220-2d2c-4298-aed7-13cf91a911d9",
     "prev": "ef6d5233-ba7a-4753-9583-0e4eb73f36c7",
     "regions": {
      "4c7c2f32-245d-4c49-8f38-4036d0211e29": {
       "attrs": {
        "height": 0.8,
        "width": 0.8,
        "x": 0.1,
        "y": 0.1
       },
       "content": {
        "cell": "3a9af6c5-6415-42f7-af93-beb28dd92388",
        "part": "whole"
       },
       "id": "4c7c2f32-245d-4c49-8f38-4036d0211e29"
      }
     }
    },
    "0a08b134-db10-4adc-92ef-5f4daad7a85d": {
     "id": "0a08b134-db10-4adc-92ef-5f4daad7a85d",
     "prev": "0556a1dc-01b1-4313-ba94-f185a406340e",
     "regions": {
      "a0087593-597b-4b05-8e1b-3003525f14a4": {
       "attrs": {
        "height": 0.8,
        "width": 0.8,
        "x": 0.1,
        "y": 0.1
       },
       "content": {
        "cell": "cc22b21f-b69b-4ace-bcfa-899fa3b8f268",
        "part": "whole"
       },
       "id": "a0087593-597b-4b05-8e1b-3003525f14a4"
      }
     }
    },
    "266bea93-f54b-49a0-a7fc-619a62893264": {
     "id": "266bea93-f54b-49a0-a7fc-619a62893264",
     "prev": "a965b1da-af9d-43d3-a90d-31dd55412d34",
     "regions": {
      "60c6f8cf-8774-480d-a7ed-0cc2016c99ca": {
       "attrs": {
        "height": 0.8,
        "width": 0.8,
        "x": 0.1,
        "y": 0.1
       },
       "content": {
        "cell": "95505a92-0b81-4a1a-88ad-3a937185bf0a",
        "part": "whole"
       },
       "id": "60c6f8cf-8774-480d-a7ed-0cc2016c99ca"
      }
     }
    },
    "29c8bad0-2751-4a13-87d0-69a61951a45c": {
     "id": "29c8bad0-2751-4a13-87d0-69a61951a45c",
     "prev": "0a08b134-db10-4adc-92ef-5f4daad7a85d",
     "regions": {
      "be1a1c49-47df-44f6-bfe1-66b4cc518004": {
       "attrs": {
        "height": 0.8,
        "width": 0.8,
        "x": 0.1,
        "y": 0.1
       },
       "content": {
        "cell": "da6621f6-eaba-42b2-b6f6-061cea4c2f0d",
        "part": "whole"
       },
       "id": "be1a1c49-47df-44f6-bfe1-66b4cc518004"
      }
     }
    },
    "2c55f904-e0dd-4755-984d-52e967ad96f2": {
     "id": "2c55f904-e0dd-4755-984d-52e967ad96f2",
     "prev": "4c76e7f1-131d-498d-a818-4cc48ea5fac5",
     "regions": {
      "729c0b78-cd13-4d18-8147-b46b43332359": {
       "attrs": {
        "height": 0.8,
        "width": 0.8,
        "x": 0.1,
        "y": 0.1
       },
       "content": {
        "cell": "59096fc7-658e-4f63-8134-ae060975e93d",
        "part": "whole"
       },
       "id": "729c0b78-cd13-4d18-8147-b46b43332359"
      }
     }
    },
    "3568494f-c212-4d4e-bfb9-6cab9d0ba3f9": {
     "id": "3568494f-c212-4d4e-bfb9-6cab9d0ba3f9",
     "prev": "f23b3a5b-7273-46b1-99fd-9ef56553ce90",
     "regions": {
      "e584ff48-4ef3-4526-98d1-2625492295ce": {
       "attrs": {
        "height": 0.8,
        "width": 0.8,
        "x": 0.1,
        "y": 0.1
       },
       "content": {
        "cell": "048b8d15-5b59-41b7-8bb5-85af0c63a5af",
        "part": "whole"
       },
       "id": "e584ff48-4ef3-4526-98d1-2625492295ce"
      }
     }
    },
    "3e1c252d-3048-40d4-8f85-56211bdb0918": {
     "id": "3e1c252d-3048-40d4-8f85-56211bdb0918",
     "prev": "80f4c3fb-9d06-4c9b-a3cd-c844ebb332f2",
     "regions": {
      "b99be188-7024-4a37-acc2-2a4a8d0c715b": {
       "attrs": {
        "height": 0.8,
        "width": 0.8,
        "x": 0.1,
        "y": 0.1
       },
       "content": {
        "cell": "64af5e0d-a02f-4894-9943-b26a639b4d20",
        "part": "whole"
       },
       "id": "b99be188-7024-4a37-acc2-2a4a8d0c715b"
      }
     }
    },
    "3ed74871-d956-48be-9c69-7c0328d7977e": {
     "id": "3ed74871-d956-48be-9c69-7c0328d7977e",
     "prev": null,
     "regions": {
      "9a66121b-2cc8-4285-8e42-8ab89849a88b": {
       "attrs": {
        "height": 0.8,
        "width": 0.8,
        "x": 0.1,
        "y": 0.1
       },
       "content": {
        "cell": "136d55a6-1e19-43b7-9332-1d5c00a49a9b",
        "part": "whole"
       },
       "id": "9a66121b-2cc8-4285-8e42-8ab89849a88b"
      }
     }
    },
    "4c76e7f1-131d-498d-a818-4cc48ea5fac5": {
     "id": "4c76e7f1-131d-498d-a818-4cc48ea5fac5",
     "prev": "bd5face3-329f-4afd-8a04-9016f034df0f",
     "regions": {
      "9cb63779-b628-4ea0-b504-112a4dd01c34": {
       "attrs": {
        "height": 0.8,
        "width": 0.8,
        "x": 0.1,
        "y": 0.1
       },
       "content": {
        "cell": "06344fb8-7a79-4be0-b928-e43217aee415",
        "part": "whole"
       },
       "id": "9cb63779-b628-4ea0-b504-112a4dd01c34"
      }
     }
    },
    "4cea7e0b-9362-4af1-8610-1c6d93c36461": {
     "id": "4cea7e0b-9362-4af1-8610-1c6d93c36461",
     "prev": "f9fc7705-afec-411b-99fc-86454128abd9",
     "regions": {
      "0d5fe867-cc71-4062-a9d7-69daef45d48c": {
       "attrs": {
        "height": 0.8,
        "width": 0.8,
        "x": 0.1,
        "y": 0.1
       },
       "content": {
        "cell": "ddc466e5-3fc8-44f0-9b78-48aa76b98024",
        "part": "whole"
       },
       "id": "0d5fe867-cc71-4062-a9d7-69daef45d48c"
      }
     }
    },
    "80f4c3fb-9d06-4c9b-a3cd-c844ebb332f2": {
     "id": "80f4c3fb-9d06-4c9b-a3cd-c844ebb332f2",
     "prev": "3568494f-c212-4d4e-bfb9-6cab9d0ba3f9",
     "regions": {
      "c8a9f8a1-7e5e-4fae-baf8-b47f69c65f51": {
       "attrs": {
        "height": 0.8,
        "width": 0.8,
        "x": 0.1,
        "y": 0.1
       },
       "content": {
        "cell": "ca7a402a-2edd-4076-9423-9b2beeeba986",
        "part": "whole"
       },
       "id": "c8a9f8a1-7e5e-4fae-baf8-b47f69c65f51"
      }
     }
    },
    "8701cba0-9f32-4575-bc17-1c8b6741eb36": {
     "id": "8701cba0-9f32-4575-bc17-1c8b6741eb36",
     "prev": "266bea93-f54b-49a0-a7fc-619a62893264",
     "regions": {
      "d7d9cd6f-fcdc-444f-a284-058c92d7463b": {
       "attrs": {
        "height": 0.8,
        "width": 0.8,
        "x": 0.1,
        "y": 0.1
       },
       "content": {
        "cell": "6a568d86-c4ab-4f30-9949-a549e22bb4ec",
        "part": "whole"
       },
       "id": "d7d9cd6f-fcdc-444f-a284-058c92d7463b"
      }
     }
    },
    "884f52ff-16e6-4988-9b2d-a22b303eed7f": {
     "id": "884f52ff-16e6-4988-9b2d-a22b303eed7f",
     "prev": "29c8bad0-2751-4a13-87d0-69a61951a45c",
     "regions": {
      "7ace1bc1-7a88-4115-a9f5-88d95722a2d1": {
       "attrs": {
        "height": 0.8,
        "width": 0.8,
        "x": 0.1,
        "y": 0.1
       },
       "content": {
        "cell": "8edb4de6-7f75-4c78-92ef-43eb09b2e069",
        "part": "whole"
       },
       "id": "7ace1bc1-7a88-4115-a9f5-88d95722a2d1"
      }
     }
    },
    "8b6cc492-86b1-4d8c-98ae-d5b2eaee29aa": {
     "id": "8b6cc492-86b1-4d8c-98ae-d5b2eaee29aa",
     "prev": "e8c8db35-8911-40ab-80ea-26064ee63bb4",
     "regions": {
      "fc09cf82-6402-4799-b583-4042008f792e": {
       "attrs": {
        "height": 0.8,
        "width": 0.8,
        "x": 0.1,
        "y": 0.1
       },
       "content": {
        "cell": "35cfdcce-c409-4025-909d-91a2d905d954",
        "part": "whole"
       },
       "id": "fc09cf82-6402-4799-b583-4042008f792e"
      }
     }
    },
    "9cde536c-dbc5-44db-8766-5142d0b94169": {
     "id": "9cde536c-dbc5-44db-8766-5142d0b94169",
     "prev": "4cea7e0b-9362-4af1-8610-1c6d93c36461",
     "regions": {
      "de86e42d-ee50-4064-b8ac-0b885a3849b6": {
       "attrs": {
        "height": 0.8,
        "width": 0.8,
        "x": 0.1,
        "y": 0.1
       },
       "content": {
        "cell": "f0529a73-e736-43b1-bfe5-ae587e9071b9",
        "part": "whole"
       },
       "id": "de86e42d-ee50-4064-b8ac-0b885a3849b6"
      }
     }
    },
    "a2cb4e1d-df16-4944-aa8d-8ed4d5f9a993": {
     "id": "a2cb4e1d-df16-4944-aa8d-8ed4d5f9a993",
     "prev": "c2e56ed1-f6d5-45b7-808d-d2fa9355ac1c",
     "regions": {
      "0fc8b83c-d480-47b6-aff0-42fc93486b43": {
       "attrs": {
        "height": 0.8,
        "width": 0.8,
        "x": 0.1,
        "y": 0.1
       },
       "content": {
        "cell": "2861a644-8296-4531-a2d4-bcf31304c2c2",
        "part": "whole"
       },
       "id": "0fc8b83c-d480-47b6-aff0-42fc93486b43"
      }
     }
    },
    "a965b1da-af9d-43d3-a90d-31dd55412d34": {
     "id": "a965b1da-af9d-43d3-a90d-31dd55412d34",
     "prev": "9cde536c-dbc5-44db-8766-5142d0b94169",
     "regions": {
      "203c9fd4-1503-4da0-97ff-9541f1aa2d1d": {
       "attrs": {
        "height": 0.8,
        "width": 0.8,
        "x": 0.1,
        "y": 0.1
       },
       "content": {
        "cell": "19ca5d49-15b3-45a2-be62-596b2f1244cf",
        "part": "whole"
       },
       "id": "203c9fd4-1503-4da0-97ff-9541f1aa2d1d"
      }
     }
    },
    "bd5face3-329f-4afd-8a04-9016f034df0f": {
     "id": "bd5face3-329f-4afd-8a04-9016f034df0f",
     "prev": "3e1c252d-3048-40d4-8f85-56211bdb0918",
     "regions": {
      "9d7a40ac-e9d2-43cc-8381-a1b98d133523": {
       "attrs": {
        "height": 0.8,
        "width": 0.8,
        "x": 0.1,
        "y": 0.1
       },
       "content": {
        "cell": "55d75f3e-82b0-46e5-8196-f4629be48de2",
        "part": "whole"
       },
       "id": "9d7a40ac-e9d2-43cc-8381-a1b98d133523"
      }
     }
    },
    "c2e56ed1-f6d5-45b7-808d-d2fa9355ac1c": {
     "id": "c2e56ed1-f6d5-45b7-808d-d2fa9355ac1c",
     "prev": "2c55f904-e0dd-4755-984d-52e967ad96f2",
     "regions": {
      "2c45cf70-87a1-4325-abc9-118039872c3a": {
       "attrs": {
        "height": 0.8,
        "width": 0.8,
        "x": 0.1,
        "y": 0.1
       },
       "content": {
        "cell": "f0485e2a-7612-4f89-b232-a4588a78dca5",
        "part": "whole"
       },
       "id": "2c45cf70-87a1-4325-abc9-118039872c3a"
      }
     }
    },
    "e21aacbf-d112-49a3-9d71-260899e1ee17": {
     "id": "e21aacbf-d112-49a3-9d71-260899e1ee17",
     "prev": "884f52ff-16e6-4988-9b2d-a22b303eed7f",
     "regions": {
      "17184325-e175-4ff3-b966-2be25d9880d2": {
       "attrs": {
        "height": 0.8,
        "width": 0.8,
        "x": 0.1,
        "y": 0.1
       },
       "content": {
        "cell": "7371e95f-1623-4c44-b624-b35162015612",
        "part": "whole"
       },
       "id": "17184325-e175-4ff3-b966-2be25d9880d2"
      }
     }
    },
    "e8c8db35-8911-40ab-80ea-26064ee63bb4": {
     "id": "e8c8db35-8911-40ab-80ea-26064ee63bb4",
     "prev": "8701cba0-9f32-4575-bc17-1c8b6741eb36",
     "regions": {
      "c4b4937d-3e6e-43ed-b531-c26d2676b552": {
       "attrs": {
        "height": 0.8,
        "width": 0.8,
        "x": 0.1,
        "y": 0.1
       },
       "content": {
        "cell": "2f424e60-417b-463b-b0db-b946f61f963f",
        "part": "whole"
       },
       "id": "c4b4937d-3e6e-43ed-b531-c26d2676b552"
      }
     }
    },
    "ef6d5233-ba7a-4753-9583-0e4eb73f36c7": {
     "id": "ef6d5233-ba7a-4753-9583-0e4eb73f36c7",
     "prev": "8b6cc492-86b1-4d8c-98ae-d5b2eaee29aa",
     "regions": {
      "5ea097b3-8893-47a8-b17c-15a47b649a18": {
       "attrs": {
        "height": 0.8,
        "width": 0.8,
        "x": 0.1,
        "y": 0.1
       },
       "content": {
        "cell": "e6f2030e-b559-421e-9126-b74ef83aba31",
        "part": "whole"
       },
       "id": "5ea097b3-8893-47a8-b17c-15a47b649a18"
      }
     }
    },
    "f23b3a5b-7273-46b1-99fd-9ef56553ce90": {
     "id": "f23b3a5b-7273-46b1-99fd-9ef56553ce90",
     "prev": "3ed74871-d956-48be-9c69-7c0328d7977e",
     "regions": {
      "85c8d72e-3481-48d6-a3dd-89209e0989b7": {
       "attrs": {
        "height": 0.8,
        "width": 0.8,
        "x": 0.1,
        "y": 0.1
       },
       "content": {
        "cell": "5f19859f-2c12-43e7-8725-e84ac0660c5b",
        "part": "whole"
       },
       "id": "85c8d72e-3481-48d6-a3dd-89209e0989b7"
      }
     }
    },
    "f9fc7705-afec-411b-99fc-86454128abd9": {
     "id": "f9fc7705-afec-411b-99fc-86454128abd9",
     "prev": "e21aacbf-d112-49a3-9d71-260899e1ee17",
     "regions": {
      "0b53beb4-8dd1-4557-a54f-0347e438c23b": {
       "attrs": {
        "height": 0.8,
        "width": 0.8,
        "x": 0.1,
        "y": 0.1
       },
       "content": {
        "cell": "e79ef648-d94a-4bc3-8b3e-e937a3b82d61",
        "part": "whole"
       },
       "id": "0b53beb4-8dd1-4557-a54f-0347e438c23b"
      }
     }
    }
   },
   "themes": {}
  }
 },
 "nbformat": 4,
 "nbformat_minor": 0
}
